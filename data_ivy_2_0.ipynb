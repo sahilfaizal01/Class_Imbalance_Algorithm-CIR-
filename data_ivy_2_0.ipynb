{
  "nbformat": 4,
  "nbformat_minor": 0,
  "metadata": {
    "colab": {
      "name": "data_ivy-2.0.ipynb",
      "provenance": []
    },
    "kernelspec": {
      "name": "python3",
      "display_name": "Python 3"
    },
    "language_info": {
      "name": "python"
    }
  },
  "cells": [
    {
      "cell_type": "code",
      "metadata": {
        "id": "EyEmTi5wjlXD"
      },
      "source": [
        "import pandas as pd\n",
        "import numpy"
      ],
      "execution_count": null,
      "outputs": []
    },
    {
      "cell_type": "markdown",
      "metadata": {
        "id": "78YvWZzFkXVQ"
      },
      "source": [
        "## Reading the dataset"
      ]
    },
    {
      "cell_type": "code",
      "metadata": {
        "colab": {
          "base_uri": "https://localhost:8080/",
          "height": 206
        },
        "id": "1Aqpo7aOkbKM",
        "outputId": "db9c3991-05dd-4f54-fbc2-2eedc7330a8f"
      },
      "source": [
        "df = pd.read_csv(\"data_ivy-2.0.csv\")\n",
        "df.head()"
      ],
      "execution_count": null,
      "outputs": [
        {
          "output_type": "execute_result",
          "data": {
            "text/html": [
              "<div>\n",
              "<style scoped>\n",
              "    .dataframe tbody tr th:only-of-type {\n",
              "        vertical-align: middle;\n",
              "    }\n",
              "\n",
              "    .dataframe tbody tr th {\n",
              "        vertical-align: top;\n",
              "    }\n",
              "\n",
              "    .dataframe thead th {\n",
              "        text-align: right;\n",
              "    }\n",
              "</style>\n",
              "<table border=\"1\" class=\"dataframe\">\n",
              "  <thead>\n",
              "    <tr style=\"text-align: right;\">\n",
              "      <th></th>\n",
              "      <th>wmc</th>\n",
              "      <th>dit</th>\n",
              "      <th>noc</th>\n",
              "      <th>cbo</th>\n",
              "      <th>rfc</th>\n",
              "      <th>lcom</th>\n",
              "      <th>ca</th>\n",
              "      <th>ce</th>\n",
              "      <th>npm</th>\n",
              "      <th>lcom3</th>\n",
              "      <th>loc</th>\n",
              "      <th>dam</th>\n",
              "      <th>moa</th>\n",
              "      <th>mfa</th>\n",
              "      <th>cam</th>\n",
              "      <th>ic</th>\n",
              "      <th>cbm</th>\n",
              "      <th>amc</th>\n",
              "      <th>max_cc</th>\n",
              "      <th>avg_cc</th>\n",
              "      <th>bug</th>\n",
              "    </tr>\n",
              "  </thead>\n",
              "  <tbody>\n",
              "    <tr>\n",
              "      <th>0</th>\n",
              "      <td>28</td>\n",
              "      <td>1</td>\n",
              "      <td>0</td>\n",
              "      <td>32</td>\n",
              "      <td>82</td>\n",
              "      <td>374</td>\n",
              "      <td>26</td>\n",
              "      <td>7</td>\n",
              "      <td>24</td>\n",
              "      <td>1.012346</td>\n",
              "      <td>926</td>\n",
              "      <td>0.166667</td>\n",
              "      <td>0</td>\n",
              "      <td>0.0</td>\n",
              "      <td>0.226337</td>\n",
              "      <td>0</td>\n",
              "      <td>0</td>\n",
              "      <td>31.642857</td>\n",
              "      <td>23</td>\n",
              "      <td>2.6786</td>\n",
              "      <td>1</td>\n",
              "    </tr>\n",
              "    <tr>\n",
              "      <th>1</th>\n",
              "      <td>6</td>\n",
              "      <td>1</td>\n",
              "      <td>2</td>\n",
              "      <td>3</td>\n",
              "      <td>7</td>\n",
              "      <td>3</td>\n",
              "      <td>2</td>\n",
              "      <td>1</td>\n",
              "      <td>4</td>\n",
              "      <td>0.600000</td>\n",
              "      <td>36</td>\n",
              "      <td>1.000000</td>\n",
              "      <td>0</td>\n",
              "      <td>0.0</td>\n",
              "      <td>0.444444</td>\n",
              "      <td>0</td>\n",
              "      <td>0</td>\n",
              "      <td>4.666667</td>\n",
              "      <td>1</td>\n",
              "      <td>0.6667</td>\n",
              "      <td>0</td>\n",
              "    </tr>\n",
              "    <tr>\n",
              "      <th>2</th>\n",
              "      <td>4</td>\n",
              "      <td>2</td>\n",
              "      <td>0</td>\n",
              "      <td>5</td>\n",
              "      <td>6</td>\n",
              "      <td>4</td>\n",
              "      <td>1</td>\n",
              "      <td>4</td>\n",
              "      <td>2</td>\n",
              "      <td>0.666667</td>\n",
              "      <td>21</td>\n",
              "      <td>1.000000</td>\n",
              "      <td>1</td>\n",
              "      <td>0.5</td>\n",
              "      <td>0.500000</td>\n",
              "      <td>0</td>\n",
              "      <td>0</td>\n",
              "      <td>4.000000</td>\n",
              "      <td>1</td>\n",
              "      <td>0.5000</td>\n",
              "      <td>0</td>\n",
              "    </tr>\n",
              "    <tr>\n",
              "      <th>3</th>\n",
              "      <td>4</td>\n",
              "      <td>1</td>\n",
              "      <td>0</td>\n",
              "      <td>9</td>\n",
              "      <td>4</td>\n",
              "      <td>6</td>\n",
              "      <td>9</td>\n",
              "      <td>0</td>\n",
              "      <td>4</td>\n",
              "      <td>2.000000</td>\n",
              "      <td>4</td>\n",
              "      <td>0.000000</td>\n",
              "      <td>0</td>\n",
              "      <td>0.0</td>\n",
              "      <td>0.666667</td>\n",
              "      <td>0</td>\n",
              "      <td>0</td>\n",
              "      <td>0.000000</td>\n",
              "      <td>1</td>\n",
              "      <td>1.0000</td>\n",
              "      <td>0</td>\n",
              "    </tr>\n",
              "    <tr>\n",
              "      <th>4</th>\n",
              "      <td>1</td>\n",
              "      <td>1</td>\n",
              "      <td>0</td>\n",
              "      <td>8</td>\n",
              "      <td>1</td>\n",
              "      <td>0</td>\n",
              "      <td>6</td>\n",
              "      <td>2</td>\n",
              "      <td>1</td>\n",
              "      <td>2.000000</td>\n",
              "      <td>1</td>\n",
              "      <td>0.000000</td>\n",
              "      <td>0</td>\n",
              "      <td>0.0</td>\n",
              "      <td>1.000000</td>\n",
              "      <td>0</td>\n",
              "      <td>0</td>\n",
              "      <td>0.000000</td>\n",
              "      <td>1</td>\n",
              "      <td>1.0000</td>\n",
              "      <td>0</td>\n",
              "    </tr>\n",
              "  </tbody>\n",
              "</table>\n",
              "</div>"
            ],
            "text/plain": [
              "   wmc  dit  noc  cbo  rfc  lcom  ...  ic  cbm        amc  max_cc  avg_cc  bug\n",
              "0   28    1    0   32   82   374  ...   0    0  31.642857      23  2.6786    1\n",
              "1    6    1    2    3    7     3  ...   0    0   4.666667       1  0.6667    0\n",
              "2    4    2    0    5    6     4  ...   0    0   4.000000       1  0.5000    0\n",
              "3    4    1    0    9    4     6  ...   0    0   0.000000       1  1.0000    0\n",
              "4    1    1    0    8    1     0  ...   0    0   0.000000       1  1.0000    0\n",
              "\n",
              "[5 rows x 21 columns]"
            ]
          },
          "metadata": {},
          "execution_count": 2
        }
      ]
    },
    {
      "cell_type": "code",
      "metadata": {
        "colab": {
          "base_uri": "https://localhost:8080/",
          "height": 320
        },
        "id": "kDG2bH4fllbs",
        "outputId": "55105e51-3ff3-48c6-a7f1-f1bd20cb96c1"
      },
      "source": [
        "df.describe()"
      ],
      "execution_count": null,
      "outputs": [
        {
          "output_type": "execute_result",
          "data": {
            "text/html": [
              "<div>\n",
              "<style scoped>\n",
              "    .dataframe tbody tr th:only-of-type {\n",
              "        vertical-align: middle;\n",
              "    }\n",
              "\n",
              "    .dataframe tbody tr th {\n",
              "        vertical-align: top;\n",
              "    }\n",
              "\n",
              "    .dataframe thead th {\n",
              "        text-align: right;\n",
              "    }\n",
              "</style>\n",
              "<table border=\"1\" class=\"dataframe\">\n",
              "  <thead>\n",
              "    <tr style=\"text-align: right;\">\n",
              "      <th></th>\n",
              "      <th>wmc</th>\n",
              "      <th>dit</th>\n",
              "      <th>noc</th>\n",
              "      <th>cbo</th>\n",
              "      <th>rfc</th>\n",
              "      <th>lcom</th>\n",
              "      <th>ca</th>\n",
              "      <th>ce</th>\n",
              "      <th>npm</th>\n",
              "      <th>lcom3</th>\n",
              "      <th>loc</th>\n",
              "      <th>dam</th>\n",
              "      <th>moa</th>\n",
              "      <th>mfa</th>\n",
              "      <th>cam</th>\n",
              "      <th>ic</th>\n",
              "      <th>cbm</th>\n",
              "      <th>amc</th>\n",
              "      <th>max_cc</th>\n",
              "      <th>avg_cc</th>\n",
              "      <th>bug</th>\n",
              "    </tr>\n",
              "  </thead>\n",
              "  <tbody>\n",
              "    <tr>\n",
              "      <th>count</th>\n",
              "      <td>352.000000</td>\n",
              "      <td>352.000000</td>\n",
              "      <td>352.000000</td>\n",
              "      <td>352.000000</td>\n",
              "      <td>352.000000</td>\n",
              "      <td>352.000000</td>\n",
              "      <td>352.000000</td>\n",
              "      <td>352.000000</td>\n",
              "      <td>352.000000</td>\n",
              "      <td>352.000000</td>\n",
              "      <td>352.000000</td>\n",
              "      <td>352.000000</td>\n",
              "      <td>352.000000</td>\n",
              "      <td>352.000000</td>\n",
              "      <td>352.000000</td>\n",
              "      <td>352.000000</td>\n",
              "      <td>352.000000</td>\n",
              "      <td>352.000000</td>\n",
              "      <td>352.000000</td>\n",
              "      <td>352.000000</td>\n",
              "      <td>352.000000</td>\n",
              "    </tr>\n",
              "    <tr>\n",
              "      <th>mean</th>\n",
              "      <td>11.284091</td>\n",
              "      <td>1.792614</td>\n",
              "      <td>0.369318</td>\n",
              "      <td>13.232955</td>\n",
              "      <td>34.036932</td>\n",
              "      <td>131.579545</td>\n",
              "      <td>6.880682</td>\n",
              "      <td>5.164773</td>\n",
              "      <td>9.036932</td>\n",
              "      <td>1.059352</td>\n",
              "      <td>249.343750</td>\n",
              "      <td>0.616224</td>\n",
              "      <td>0.715909</td>\n",
              "      <td>0.290908</td>\n",
              "      <td>0.490831</td>\n",
              "      <td>0.357955</td>\n",
              "      <td>0.636364</td>\n",
              "      <td>18.489722</td>\n",
              "      <td>3.187500</td>\n",
              "      <td>1.214294</td>\n",
              "      <td>0.113636</td>\n",
              "    </tr>\n",
              "    <tr>\n",
              "      <th>std</th>\n",
              "      <td>15.148232</td>\n",
              "      <td>1.244773</td>\n",
              "      <td>1.318279</td>\n",
              "      <td>16.571085</td>\n",
              "      <td>44.679566</td>\n",
              "      <td>712.192029</td>\n",
              "      <td>13.938917</td>\n",
              "      <td>8.931273</td>\n",
              "      <td>12.636099</td>\n",
              "      <td>0.660123</td>\n",
              "      <td>428.259698</td>\n",
              "      <td>0.459940</td>\n",
              "      <td>1.441737</td>\n",
              "      <td>0.385164</td>\n",
              "      <td>0.254585</td>\n",
              "      <td>0.733601</td>\n",
              "      <td>1.781077</td>\n",
              "      <td>27.032755</td>\n",
              "      <td>3.848123</td>\n",
              "      <td>0.816136</td>\n",
              "      <td>0.317821</td>\n",
              "    </tr>\n",
              "    <tr>\n",
              "      <th>min</th>\n",
              "      <td>1.000000</td>\n",
              "      <td>1.000000</td>\n",
              "      <td>0.000000</td>\n",
              "      <td>1.000000</td>\n",
              "      <td>1.000000</td>\n",
              "      <td>0.000000</td>\n",
              "      <td>0.000000</td>\n",
              "      <td>0.000000</td>\n",
              "      <td>0.000000</td>\n",
              "      <td>0.000000</td>\n",
              "      <td>1.000000</td>\n",
              "      <td>0.000000</td>\n",
              "      <td>0.000000</td>\n",
              "      <td>0.000000</td>\n",
              "      <td>0.055223</td>\n",
              "      <td>0.000000</td>\n",
              "      <td>0.000000</td>\n",
              "      <td>0.000000</td>\n",
              "      <td>0.000000</td>\n",
              "      <td>0.000000</td>\n",
              "      <td>0.000000</td>\n",
              "    </tr>\n",
              "    <tr>\n",
              "      <th>25%</th>\n",
              "      <td>3.000000</td>\n",
              "      <td>1.000000</td>\n",
              "      <td>0.000000</td>\n",
              "      <td>5.000000</td>\n",
              "      <td>6.000000</td>\n",
              "      <td>0.000000</td>\n",
              "      <td>1.000000</td>\n",
              "      <td>1.000000</td>\n",
              "      <td>2.000000</td>\n",
              "      <td>0.625000</td>\n",
              "      <td>20.000000</td>\n",
              "      <td>0.000000</td>\n",
              "      <td>0.000000</td>\n",
              "      <td>0.000000</td>\n",
              "      <td>0.299074</td>\n",
              "      <td>0.000000</td>\n",
              "      <td>0.000000</td>\n",
              "      <td>4.666667</td>\n",
              "      <td>1.000000</td>\n",
              "      <td>0.800000</td>\n",
              "      <td>0.000000</td>\n",
              "    </tr>\n",
              "    <tr>\n",
              "      <th>50%</th>\n",
              "      <td>6.000000</td>\n",
              "      <td>1.000000</td>\n",
              "      <td>0.000000</td>\n",
              "      <td>8.000000</td>\n",
              "      <td>19.000000</td>\n",
              "      <td>6.000000</td>\n",
              "      <td>3.000000</td>\n",
              "      <td>2.000000</td>\n",
              "      <td>5.000000</td>\n",
              "      <td>0.850000</td>\n",
              "      <td>85.500000</td>\n",
              "      <td>1.000000</td>\n",
              "      <td>0.000000</td>\n",
              "      <td>0.000000</td>\n",
              "      <td>0.444444</td>\n",
              "      <td>0.000000</td>\n",
              "      <td>0.000000</td>\n",
              "      <td>10.388199</td>\n",
              "      <td>2.000000</td>\n",
              "      <td>1.000000</td>\n",
              "      <td>0.000000</td>\n",
              "    </tr>\n",
              "    <tr>\n",
              "      <th>75%</th>\n",
              "      <td>13.000000</td>\n",
              "      <td>2.000000</td>\n",
              "      <td>0.000000</td>\n",
              "      <td>16.000000</td>\n",
              "      <td>40.000000</td>\n",
              "      <td>45.250000</td>\n",
              "      <td>6.000000</td>\n",
              "      <td>5.000000</td>\n",
              "      <td>11.000000</td>\n",
              "      <td>2.000000</td>\n",
              "      <td>267.000000</td>\n",
              "      <td>1.000000</td>\n",
              "      <td>1.000000</td>\n",
              "      <td>0.670918</td>\n",
              "      <td>0.666667</td>\n",
              "      <td>0.250000</td>\n",
              "      <td>0.250000</td>\n",
              "      <td>21.434615</td>\n",
              "      <td>4.000000</td>\n",
              "      <td>1.446925</td>\n",
              "      <td>0.000000</td>\n",
              "    </tr>\n",
              "    <tr>\n",
              "      <th>max</th>\n",
              "      <td>157.000000</td>\n",
              "      <td>6.000000</td>\n",
              "      <td>17.000000</td>\n",
              "      <td>150.000000</td>\n",
              "      <td>312.000000</td>\n",
              "      <td>11794.000000</td>\n",
              "      <td>147.000000</td>\n",
              "      <td>75.000000</td>\n",
              "      <td>142.000000</td>\n",
              "      <td>2.000000</td>\n",
              "      <td>2894.000000</td>\n",
              "      <td>1.000000</td>\n",
              "      <td>12.000000</td>\n",
              "      <td>1.000000</td>\n",
              "      <td>1.000000</td>\n",
              "      <td>4.000000</td>\n",
              "      <td>18.000000</td>\n",
              "      <td>203.500000</td>\n",
              "      <td>29.000000</td>\n",
              "      <td>6.500000</td>\n",
              "      <td>1.000000</td>\n",
              "    </tr>\n",
              "  </tbody>\n",
              "</table>\n",
              "</div>"
            ],
            "text/plain": [
              "              wmc         dit         noc  ...      max_cc      avg_cc         bug\n",
              "count  352.000000  352.000000  352.000000  ...  352.000000  352.000000  352.000000\n",
              "mean    11.284091    1.792614    0.369318  ...    3.187500    1.214294    0.113636\n",
              "std     15.148232    1.244773    1.318279  ...    3.848123    0.816136    0.317821\n",
              "min      1.000000    1.000000    0.000000  ...    0.000000    0.000000    0.000000\n",
              "25%      3.000000    1.000000    0.000000  ...    1.000000    0.800000    0.000000\n",
              "50%      6.000000    1.000000    0.000000  ...    2.000000    1.000000    0.000000\n",
              "75%     13.000000    2.000000    0.000000  ...    4.000000    1.446925    0.000000\n",
              "max    157.000000    6.000000   17.000000  ...   29.000000    6.500000    1.000000\n",
              "\n",
              "[8 rows x 21 columns]"
            ]
          },
          "metadata": {},
          "execution_count": 3
        }
      ]
    },
    {
      "cell_type": "code",
      "metadata": {
        "colab": {
          "base_uri": "https://localhost:8080/"
        },
        "id": "PVi-Zv4DlLS-",
        "outputId": "80667e0c-49e1-4994-edd7-07bbcae11365"
      },
      "source": [
        "\n",
        "\n",
        "for i in range(len(df)):\n",
        "    if df['bug'][i]!=0:\n",
        "       df['bug'][i]=1\n",
        "       "
      ],
      "execution_count": null,
      "outputs": [
        {
          "output_type": "stream",
          "name": "stderr",
          "text": [
            "/usr/local/lib/python3.7/dist-packages/ipykernel_launcher.py:5: SettingWithCopyWarning: \n",
            "A value is trying to be set on a copy of a slice from a DataFrame\n",
            "\n",
            "See the caveats in the documentation: https://pandas.pydata.org/pandas-docs/stable/user_guide/indexing.html#returning-a-view-versus-a-copy\n",
            "  \"\"\"\n"
          ]
        }
      ]
    },
    {
      "cell_type": "code",
      "metadata": {
        "colab": {
          "base_uri": "https://localhost:8080/"
        },
        "id": "yZlTGzESm32y",
        "outputId": "6fca7c11-39a2-4e76-a637-a5cbb8a4c5fd"
      },
      "source": [
        "df['bug'].value_counts()"
      ],
      "execution_count": null,
      "outputs": [
        {
          "output_type": "execute_result",
          "data": {
            "text/plain": [
              "0    312\n",
              "1     40\n",
              "Name: bug, dtype: int64"
            ]
          },
          "metadata": {},
          "execution_count": 5
        }
      ]
    },
    {
      "cell_type": "code",
      "metadata": {
        "id": "C9DBH8DamRsg"
      },
      "source": [
        "#df.drop(['name','version','name.1'], axis = 1,inplace=True)"
      ],
      "execution_count": null,
      "outputs": []
    },
    {
      "cell_type": "code",
      "metadata": {
        "colab": {
          "base_uri": "https://localhost:8080/"
        },
        "id": "EDCyYseMnJ3i",
        "outputId": "a2e47345-1e6b-44d6-f1e2-5dfae4de1353"
      },
      "source": [
        "df.isnull().sum()"
      ],
      "execution_count": null,
      "outputs": [
        {
          "output_type": "execute_result",
          "data": {
            "text/plain": [
              "wmc       0\n",
              "dit       0\n",
              "noc       0\n",
              "cbo       0\n",
              "rfc       0\n",
              "lcom      0\n",
              "ca        0\n",
              "ce        0\n",
              "npm       0\n",
              "lcom3     0\n",
              "loc       0\n",
              "dam       0\n",
              "moa       0\n",
              "mfa       0\n",
              "cam       0\n",
              "ic        0\n",
              "cbm       0\n",
              "amc       0\n",
              "max_cc    0\n",
              "avg_cc    0\n",
              "bug       0\n",
              "dtype: int64"
            ]
          },
          "metadata": {},
          "execution_count": 7
        }
      ]
    },
    {
      "cell_type": "code",
      "metadata": {
        "colab": {
          "base_uri": "https://localhost:8080/",
          "height": 313
        },
        "id": "PFO-1zMsnUT5",
        "outputId": "4472ba64-52a9-4454-b280-c472455cdedd"
      },
      "source": [
        "import matplotlib.pyplot as plt \n",
        "count_classes = pd.value_counts(df['bug'], sort = True)\n",
        "\n",
        "count_classes.plot(kind = 'bar', rot=0)\n",
        "\n",
        "plt.title(\"Software Defect Class Distribution\")\n",
        "\n",
        "LABELS = [\"Normal\", \"Defect\"]\n",
        "\n",
        "plt.xticks(range(2), LABELS)\n",
        "\n",
        "plt.xlabel(\"Class\")\n",
        "\n",
        "plt.ylabel(\"Frequency\")"
      ],
      "execution_count": null,
      "outputs": [
        {
          "output_type": "execute_result",
          "data": {
            "text/plain": [
              "Text(0, 0.5, 'Frequency')"
            ]
          },
          "metadata": {},
          "execution_count": 8
        },
        {
          "output_type": "display_data",
          "data": {
            "image/png": "[encoded data removed]",
            "text/plain": [
              "<Figure size 432x288 with 1 Axes>"
            ]
          },
          "metadata": {
            "needs_background": "light"
          }
        }
      ]
    },
    {
      "cell_type": "markdown",
      "metadata": {
        "id": "yt8gfAWfoLN2"
      },
      "source": [
        "## SMOTE"
      ]
    },
    {
      "cell_type": "code",
      "metadata": {
        "id": "EZmlg5NAoC8r"
      },
      "source": [
        "X = df.iloc[:,:-1].values\n",
        "y = df.iloc[:,-1].values"
      ],
      "execution_count": null,
      "outputs": []
    },
    {
      "cell_type": "code",
      "metadata": {
        "colab": {
          "base_uri": "https://localhost:8080/"
        },
        "id": "MXDPUe3koZux",
        "outputId": "89c4c546-e41e-4611-a444-8ebf778e5634"
      },
      "source": [
        "X.shape\n"
      ],
      "execution_count": null,
      "outputs": [
        {
          "output_type": "execute_result",
          "data": {
            "text/plain": [
              "(352, 20)"
            ]
          },
          "metadata": {},
          "execution_count": 10
        }
      ]
    },
    {
      "cell_type": "code",
      "metadata": {
        "colab": {
          "base_uri": "https://localhost:8080/"
        },
        "id": "2VdrgilVofqh",
        "outputId": "2b4952c5-05af-4686-a9f8-d5fe32476b20"
      },
      "source": [
        "y.shape"
      ],
      "execution_count": null,
      "outputs": [
        {
          "output_type": "execute_result",
          "data": {
            "text/plain": [
              "(352,)"
            ]
          },
          "metadata": {},
          "execution_count": 11
        }
      ]
    },
    {
      "cell_type": "code",
      "metadata": {
        "id": "fZFCwCi7o5SL"
      },
      "source": [
        "from sklearn.model_selection import train_test_split\n",
        "X_train,X_test,y_train,y_test = train_test_split(X,y,test_size=0.3,random_state=0)\n",
        "\n",
        "from imblearn.over_sampling import SMOTE\n",
        "from imblearn.pipeline import make_pipeline\n",
        "from pylab import rcParams\n",
        "from sklearn.linear_model import LogisticRegression\n",
        "from sklearn.metrics import accuracy_score\n",
        "from sklearn.metrics import precision_score, recall_score, confusion_matrix\n",
        "from sklearn.metrics import f1_score, roc_auc_score, roc_curve\n",
        "from sklearn.model_selection import train_test_split\n",
        "from sklearn.model_selection import GridSearchCV"
      ],
      "execution_count": null,
      "outputs": []
    },
    {
      "cell_type": "code",
      "metadata": {
        "colab": {
          "base_uri": "https://localhost:8080/"
        },
        "id": "xFWx1d_DpAMA",
        "outputId": "f26c3817-0c70-42cc-c90c-899f213b4260"
      },
      "source": [
        "import numpy as np\n",
        "unique, count = np.unique(y_train, return_counts=True)\n",
        "Y_train_dict_value_count = { k:v for (k,v) in zip(unique, count)}\n",
        "Y_train_dict_value_count"
      ],
      "execution_count": null,
      "outputs": [
        {
          "output_type": "execute_result",
          "data": {
            "text/plain": [
              "{0: 218, 1: 28}"
            ]
          },
          "metadata": {},
          "execution_count": 13
        }
      ]
    },
    {
      "cell_type": "code",
      "metadata": {
        "colab": {
          "base_uri": "https://localhost:8080/"
        },
        "id": "F9XcdN_6p9HX",
        "outputId": "be885832-9d07-4779-fc91-662d3b5234ef"
      },
      "source": [
        "print(X_test)"
      ],
      "execution_count": null,
      "outputs": [
        {
          "output_type": "stream",
          "name": "stdout",
          "text": [
            "[[  5.           1.           0.         ...  23.6          4.\n",
            "    1.6       ]\n",
            " [ 11.           1.           0.         ...   7.27272727   2.\n",
            "    0.9091    ]\n",
            " [  4.           1.           0.         ...   6.25         2.\n",
            "    1.        ]\n",
            " ...\n",
            " [  2.           1.           0.         ...   0.           1.\n",
            "    1.        ]\n",
            " [  4.           1.           0.         ... 107.5          1.\n",
            "    0.75      ]\n",
            " [ 17.           3.           0.         ...  22.82352941   6.\n",
            "    1.2353    ]]\n"
          ]
        }
      ]
    },
    {
      "cell_type": "code",
      "metadata": {
        "colab": {
          "base_uri": "https://localhost:8080/"
        },
        "id": "S6Q0P15xphTJ",
        "outputId": "ba4dcd10-51d0-4dad-d1f9-0acbbdeade75"
      },
      "source": [
        "import pandas  as pd\n",
        "import matplotlib.pyplot as plt\n",
        "import numpy as np\n",
        "from sklearn.linear_model import LogisticRegression\n",
        "from sklearn.preprocessing import StandardScaler\n",
        "from sklearn.metrics import confusion_matrix, classification_report\n",
        "# logistic regression object\n",
        "lr = LogisticRegression()\n",
        " \n",
        "# train the model on train set\n",
        "lr.fit(X_train, y_train.ravel())\n",
        " \n",
        "predictions = lr.predict(X_train)\n",
        " \n",
        "# print classification report\n",
        "print(classification_report(y_train, predictions))"
      ],
      "execution_count": null,
      "outputs": [
        {
          "output_type": "stream",
          "name": "stdout",
          "text": [
            "              precision    recall  f1-score   support\n",
            "\n",
            "           0       0.91      0.98      0.95       218\n",
            "           1       0.67      0.29      0.40        28\n",
            "\n",
            "    accuracy                           0.90       246\n",
            "   macro avg       0.79      0.63      0.67       246\n",
            "weighted avg       0.89      0.90      0.88       246\n",
            "\n"
          ]
        },
        {
          "output_type": "stream",
          "name": "stderr",
          "text": [
            "/usr/local/lib/python3.7/dist-packages/sklearn/linear_model/_logistic.py:818: ConvergenceWarning: lbfgs failed to converge (status=1):\n",
            "STOP: TOTAL NO. of ITERATIONS REACHED LIMIT.\n",
            "\n",
            "Increase the number of iterations (max_iter) or scale the data as shown in:\n",
            "    https://scikit-learn.org/stable/modules/preprocessing.html\n",
            "Please also refer to the documentation for alternative solver options:\n",
            "    https://scikit-learn.org/stable/modules/linear_model.html#logistic-regression\n",
            "  extra_warning_msg=_LOGISTIC_SOLVER_CONVERGENCE_MSG,\n"
          ]
        }
      ]
    },
    {
      "cell_type": "code",
      "metadata": {
        "colab": {
          "base_uri": "https://localhost:8080/"
        },
        "id": "CrWUP5Ugt3Le",
        "outputId": "c2f1d414-5fb8-4065-c907-1946acd112bf"
      },
      "source": [
        "from sklearn.metrics import accuracy_score\n",
        "print(accuracy_score(y_train,predictions))\n",
        "print(recall_score(y_train,predictions))\n",
        "print(precision_score(y_train,predictions))"
      ],
      "execution_count": null,
      "outputs": [
        {
          "output_type": "stream",
          "name": "stdout",
          "text": [
            "0.9024390243902439\n",
            "0.2857142857142857\n",
            "0.6666666666666666\n"
          ]
        }
      ]
    },
    {
      "cell_type": "code",
      "metadata": {
        "id": "u70lNFudqx-3"
      },
      "source": [
        "from sklearn.preprocessing import StandardScaler\n",
        "Scaler_X = StandardScaler()\n",
        "X_train = Scaler_X.fit_transform(X_train)\n",
        "X_test = Scaler_X.transform(X_test)"
      ],
      "execution_count": null,
      "outputs": []
    },
    {
      "cell_type": "code",
      "metadata": {
        "id": "FQuJPvlGq3LJ"
      },
      "source": [
        "import pandas as pd \n",
        "import numpy as np \n",
        "import matplotlib.pyplot as plt\n",
        "import seaborn as sns\n",
        "\n",
        "from sklearn.linear_model import LogisticRegression\n",
        "from sklearn.tree import DecisionTreeClassifier\n",
        "from sklearn.ensemble import RandomForestClassifier\n",
        "from sklearn.metrics import accuracy_score, f1_score, precision_score, recall_score\n",
        "from sklearn.metrics import confusion_matrix, roc_auc_score, roc_curve, classification_report, precision_recall_curve\n",
        "from sklearn.model_selection import train_test_split, cross_val_score, StratifiedKFold, GridSearchCV, RandomizedSearchCV\n",
        "\n",
        "from collections import Counter"
      ],
      "execution_count": null,
      "outputs": []
    },
    {
      "cell_type": "code",
      "metadata": {
        "colab": {
          "base_uri": "https://localhost:8080/"
        },
        "id": "16mor7bMrFQa",
        "outputId": "de44bbfe-da48-4c81-f310-9bb2179c6ad7"
      },
      "source": [
        "from imblearn.over_sampling import SMOTE\n",
        "\n",
        "counter = Counter(y_train)\n",
        "print('Before',counter)\n",
        "# oversampling the train dataset using SMOTE\n",
        "smt = SMOTE()\n",
        "#X_train, y_train = smt.fit_resample(X_train, y_train)\n",
        "X_train_sm, y_train_sm = smt.fit_resample(X_train, y_train)\n",
        "\n",
        "counter = Counter(y_train_sm)\n",
        "print('After',counter)"
      ],
      "execution_count": null,
      "outputs": [
        {
          "output_type": "stream",
          "name": "stdout",
          "text": [
            "Before Counter({0: 218, 1: 28})\n",
            "After Counter({0: 218, 1: 218})\n"
          ]
        }
      ]
    },
    {
      "cell_type": "code",
      "metadata": {
        "colab": {
          "base_uri": "https://localhost:8080/"
        },
        "id": "hCPb4f0brZZr",
        "outputId": "df6aeda0-29e4-4755-92f5-622a70d24b1b"
      },
      "source": [
        "print(\"Before OverSampling, counts of label '1': {}\".format(sum(y_train == 1)))\n",
        "print(\"Before OverSampling, counts of label '0': {} \\n\".format(sum(y_train == 0)))\n",
        " \n",
        "# import SMOTE module from imblearn library\n",
        "# pip install imblearn (if you don't have imblearn in your system)\n",
        "from imblearn.over_sampling import SMOTE\n",
        "sm = SMOTE(random_state = 2)\n",
        "X_train_res, y_train_res = sm.fit_resample(X_train, y_train)\n",
        " \n",
        "print('After OverSampling, the shape of train_X: {}'.format(X_train_res.shape))\n",
        "print('After OverSampling, the shape of train_y: {} \\n'.format(y_train_res.shape))\n",
        " \n",
        "print(\"After OverSampling, counts of label '1': {}\".format(sum(y_train_res == 1)))\n",
        "print(\"After OverSampling, counts of label '0': {}\".format(sum(y_train_res == 0)))\n",
        "\n"
      ],
      "execution_count": null,
      "outputs": [
        {
          "output_type": "stream",
          "name": "stdout",
          "text": [
            "Before OverSampling, counts of label '1': 28\n",
            "Before OverSampling, counts of label '0': 218 \n",
            "\n",
            "After OverSampling, the shape of train_X: (436, 20)\n",
            "After OverSampling, the shape of train_y: (436,) \n",
            "\n",
            "After OverSampling, counts of label '1': 218\n",
            "After OverSampling, counts of label '0': 218\n"
          ]
        }
      ]
    },
    {
      "cell_type": "code",
      "metadata": {
        "colab": {
          "base_uri": "https://localhost:8080/"
        },
        "id": "O-3-L8Rir_Cr",
        "outputId": "1963b78c-e841-452e-aa66-ab0633ff2cde"
      },
      "source": [
        "# logistic regression object\n",
        "lr = LogisticRegression()\n",
        " \n",
        "# train the model on train set\n",
        "lr.fit(X_train_res, y_train_res)\n",
        " \n",
        "predictions = lr.predict(X_train_res)\n",
        " \n",
        "# print classification report\n",
        "print(classification_report(y_train_res, predictions))"
      ],
      "execution_count": null,
      "outputs": [
        {
          "output_type": "stream",
          "name": "stdout",
          "text": [
            "              precision    recall  f1-score   support\n",
            "\n",
            "           0       0.82      0.84      0.83       218\n",
            "           1       0.84      0.82      0.83       218\n",
            "\n",
            "    accuracy                           0.83       436\n",
            "   macro avg       0.83      0.83      0.83       436\n",
            "weighted avg       0.83      0.83      0.83       436\n",
            "\n"
          ]
        }
      ]
    },
    {
      "cell_type": "code",
      "metadata": {
        "colab": {
          "base_uri": "https://localhost:8080/"
        },
        "id": "-MLrVjq1sD6z",
        "outputId": "cf9cc062-9c63-45ff-b7a0-d0768b381dd0"
      },
      "source": [
        "from sklearn.metrics import accuracy_score\n",
        "print(accuracy_score(y_train_res,predictions))\n",
        "print(\"Precision :\",precision_score(y_train_res,predictions))\n",
        "print(\"Recall :\",recall_score(y_train_res,predictions))\n"
      ],
      "execution_count": null,
      "outputs": [
        {
          "output_type": "stream",
          "name": "stdout",
          "text": [
            "0.8279816513761468\n",
            "Precision : 0.8356807511737089\n",
            "Recall : 0.8165137614678899\n"
          ]
        }
      ]
    },
    {
      "cell_type": "markdown",
      "metadata": {
        "id": "loKg7l7mfKia"
      },
      "source": [
        "## SVM"
      ]
    },
    {
      "cell_type": "code",
      "metadata": {
        "colab": {
          "base_uri": "https://localhost:8080/"
        },
        "id": "ugxwRme_fJW_",
        "outputId": "5a7b8bdd-0c1e-454b-e7cf-01455cbd38f7"
      },
      "source": [
        "from sklearn import svm\n",
        "clf = svm.SVC(kernel='rbf',gamma='auto',C=1.0)\n",
        "clf.fit(X_train_res,y_train_res)\n",
        "y_train_pred = clf.predict(X_train_res)\n",
        "print(\"Training Accuracy:\",accuracy_score(y_train_res,y_train_pred))\n",
        "\n",
        "print(\"Training Precision:\",precision_score(y_train_res,y_train_pred))\n",
        "print(\"Training Recall:\",recall_score(y_train_res,y_train_pred))"
      ],
      "execution_count": null,
      "outputs": [
        {
          "output_type": "stream",
          "name": "stdout",
          "text": [
            "Training Accuracy: 0.8807339449541285\n",
            "Training Precision: 0.8772727272727273\n",
            "Training Recall: 0.8853211009174312\n"
          ]
        }
      ]
    },
    {
      "cell_type": "markdown",
      "metadata": {
        "id": "upVcceGZfO6b"
      },
      "source": [
        "## Random Forest"
      ]
    },
    {
      "cell_type": "code",
      "metadata": {
        "colab": {
          "base_uri": "https://localhost:8080/"
        },
        "id": "AG86bPQ2fYbo",
        "outputId": "0023cd9d-104f-4eb8-8cbe-35c2455e0561"
      },
      "source": [
        "from sklearn.ensemble import RandomForestClassifier\n",
        "clf = RandomForestClassifier(n_estimators = 1000) \n",
        "clf.fit(X_train_res, y_train_res)\n",
        "y_pred = clf.predict(X_train_res)\n",
        "print(\"Training Accuracy:\",accuracy_score(y_train_res,y_pred))\n",
        "\n",
        "print(\"Training Precision:\",precision_score(y_train_res,y_pred))\n",
        "print(\"Training Recall:\",recall_score(y_train_res,y_pred))"
      ],
      "execution_count": null,
      "outputs": [
        {
          "output_type": "stream",
          "name": "stdout",
          "text": [
            "Training Accuracy: 1.0\n",
            "Training Precision: 1.0\n",
            "Training Recall: 1.0\n"
          ]
        }
      ]
    },
    {
      "cell_type": "markdown",
      "metadata": {
        "id": "lprvaADvfNn6"
      },
      "source": [
        ""
      ]
    },
    {
      "cell_type": "markdown",
      "metadata": {
        "id": "i3vdD9YWudU1"
      },
      "source": [
        "## CIR"
      ]
    },
    {
      "cell_type": "code",
      "metadata": {
        "id": "hNpRR1qVugEX"
      },
      "source": [
        "Dj = df[df['bug'] == 0]\n",
        "D0 = df[df['bug']==1]"
      ],
      "execution_count": null,
      "outputs": []
    },
    {
      "cell_type": "code",
      "metadata": {
        "colab": {
          "base_uri": "https://localhost:8080/"
        },
        "id": "Q3pXDKJiusvx",
        "outputId": "68476dd5-9f2d-4536-916f-c0e7c74df740"
      },
      "source": [
        "D0.head()"
      ],
      "execution_count": null,
      "outputs": [
        {
          "output_type": "execute_result",
          "data": {
            "text/html": [
              "<div>\n",
              "<style scoped>\n",
              "    .dataframe tbody tr th:only-of-type {\n",
              "        vertical-align: middle;\n",
              "    }\n",
              "\n",
              "    .dataframe tbody tr th {\n",
              "        vertical-align: top;\n",
              "    }\n",
              "\n",
              "    .dataframe thead th {\n",
              "        text-align: right;\n",
              "    }\n",
              "</style>\n",
              "<table border=\"1\" class=\"dataframe\">\n",
              "  <thead>\n",
              "    <tr style=\"text-align: right;\">\n",
              "      <th></th>\n",
              "      <th>wmc</th>\n",
              "      <th>dit</th>\n",
              "      <th>noc</th>\n",
              "      <th>cbo</th>\n",
              "      <th>rfc</th>\n",
              "      <th>lcom</th>\n",
              "      <th>ca</th>\n",
              "      <th>ce</th>\n",
              "      <th>npm</th>\n",
              "      <th>lcom3</th>\n",
              "      <th>loc</th>\n",
              "      <th>dam</th>\n",
              "      <th>moa</th>\n",
              "      <th>mfa</th>\n",
              "      <th>cam</th>\n",
              "      <th>ic</th>\n",
              "      <th>cbm</th>\n",
              "      <th>amc</th>\n",
              "      <th>max_cc</th>\n",
              "      <th>avg_cc</th>\n",
              "      <th>bug</th>\n",
              "    </tr>\n",
              "  </thead>\n",
              "  <tbody>\n",
              "    <tr>\n",
              "      <th>0</th>\n",
              "      <td>28</td>\n",
              "      <td>1</td>\n",
              "      <td>0</td>\n",
              "      <td>32</td>\n",
              "      <td>82</td>\n",
              "      <td>374</td>\n",
              "      <td>26</td>\n",
              "      <td>7</td>\n",
              "      <td>24</td>\n",
              "      <td>1.012346</td>\n",
              "      <td>926</td>\n",
              "      <td>0.166667</td>\n",
              "      <td>0</td>\n",
              "      <td>0.000000</td>\n",
              "      <td>0.226337</td>\n",
              "      <td>0</td>\n",
              "      <td>0</td>\n",
              "      <td>31.642857</td>\n",
              "      <td>23</td>\n",
              "      <td>2.6786</td>\n",
              "      <td>1</td>\n",
              "    </tr>\n",
              "    <tr>\n",
              "      <th>5</th>\n",
              "      <td>23</td>\n",
              "      <td>2</td>\n",
              "      <td>0</td>\n",
              "      <td>150</td>\n",
              "      <td>67</td>\n",
              "      <td>235</td>\n",
              "      <td>147</td>\n",
              "      <td>5</td>\n",
              "      <td>20</td>\n",
              "      <td>0.852273</td>\n",
              "      <td>653</td>\n",
              "      <td>0.750000</td>\n",
              "      <td>1</td>\n",
              "      <td>0.280000</td>\n",
              "      <td>0.280303</td>\n",
              "      <td>1</td>\n",
              "      <td>1</td>\n",
              "      <td>26.869565</td>\n",
              "      <td>9</td>\n",
              "      <td>1.8696</td>\n",
              "      <td>1</td>\n",
              "    </tr>\n",
              "    <tr>\n",
              "      <th>7</th>\n",
              "      <td>25</td>\n",
              "      <td>4</td>\n",
              "      <td>0</td>\n",
              "      <td>18</td>\n",
              "      <td>73</td>\n",
              "      <td>200</td>\n",
              "      <td>1</td>\n",
              "      <td>0</td>\n",
              "      <td>18</td>\n",
              "      <td>0.854167</td>\n",
              "      <td>666</td>\n",
              "      <td>1.000000</td>\n",
              "      <td>0</td>\n",
              "      <td>0.736264</td>\n",
              "      <td>0.380000</td>\n",
              "      <td>0</td>\n",
              "      <td>0</td>\n",
              "      <td>25.320000</td>\n",
              "      <td>13</td>\n",
              "      <td>1.9200</td>\n",
              "      <td>1</td>\n",
              "    </tr>\n",
              "    <tr>\n",
              "      <th>14</th>\n",
              "      <td>19</td>\n",
              "      <td>1</td>\n",
              "      <td>0</td>\n",
              "      <td>8</td>\n",
              "      <td>42</td>\n",
              "      <td>99</td>\n",
              "      <td>2</td>\n",
              "      <td>7</td>\n",
              "      <td>3</td>\n",
              "      <td>0.788889</td>\n",
              "      <td>329</td>\n",
              "      <td>1.000000</td>\n",
              "      <td>1</td>\n",
              "      <td>0.000000</td>\n",
              "      <td>0.263158</td>\n",
              "      <td>0</td>\n",
              "      <td>0</td>\n",
              "      <td>16.052632</td>\n",
              "      <td>5</td>\n",
              "      <td>1.5789</td>\n",
              "      <td>1</td>\n",
              "    </tr>\n",
              "    <tr>\n",
              "      <th>30</th>\n",
              "      <td>37</td>\n",
              "      <td>6</td>\n",
              "      <td>0</td>\n",
              "      <td>26</td>\n",
              "      <td>120</td>\n",
              "      <td>570</td>\n",
              "      <td>2</td>\n",
              "      <td>26</td>\n",
              "      <td>24</td>\n",
              "      <td>0.848765</td>\n",
              "      <td>1123</td>\n",
              "      <td>0.666667</td>\n",
              "      <td>0</td>\n",
              "      <td>0.825243</td>\n",
              "      <td>0.120120</td>\n",
              "      <td>4</td>\n",
              "      <td>18</td>\n",
              "      <td>29.108108</td>\n",
              "      <td>9</td>\n",
              "      <td>2.5676</td>\n",
              "      <td>1</td>\n",
              "    </tr>\n",
              "  </tbody>\n",
              "</table>\n",
              "</div>"
            ],
            "text/plain": [
              "    wmc  dit  noc  cbo  rfc  lcom  ...  ic  cbm        amc  max_cc  avg_cc  bug\n",
              "0    28    1    0   32   82   374  ...   0    0  31.642857      23  2.6786    1\n",
              "5    23    2    0  150   67   235  ...   1    1  26.869565       9  1.8696    1\n",
              "7    25    4    0   18   73   200  ...   0    0  25.320000      13  1.9200    1\n",
              "14   19    1    0    8   42    99  ...   0    0  16.052632       5  1.5789    1\n",
              "30   37    6    0   26  120   570  ...   4   18  29.108108       9  2.5676    1\n",
              "\n",
              "[5 rows x 21 columns]"
            ]
          },
          "metadata": {},
          "execution_count": 26
        }
      ]
    },
    {
      "cell_type": "code",
      "metadata": {
        "id": "YOEDfNj3vOJc"
      },
      "source": [
        "from __future__ import unicode_literals"
      ],
      "execution_count": null,
      "outputs": []
    },
    {
      "cell_type": "code",
      "metadata": {
        "id": "qaWo0XrrvbDX"
      },
      "source": [
        "D0.to_csv(path_or_buf=\"hello.csv\", sep=',',encoding='utf-8')  "
      ],
      "execution_count": null,
      "outputs": []
    },
    {
      "cell_type": "code",
      "metadata": {
        "colab": {
          "base_uri": "https://localhost:8080/"
        },
        "id": "Cdrc2WB8vhUR",
        "outputId": "8707fb52-e003-4f83-dcc6-9bf268c047a3"
      },
      "source": [
        "!cat hello.csv"
      ],
      "execution_count": null,
      "outputs": [
        {
          "output_type": "stream",
          "name": "stdout",
          "text": [
            ",wmc,dit,noc,cbo,rfc,lcom,ca,ce,npm,lcom3,loc,dam,moa,mfa,cam,ic,cbm,amc,max_cc,avg_cc,bug\n",
            "0,28,1,0,32,82,374,26,7,24,1.012345679,926,0.166666667,0,0.0,0.226337449,0,0,31.64285714,23,2.6786,1\n",
            "5,23,2,0,150,67,235,147,5,20,0.852272727,653,0.75,1,0.28,0.28030303,1,1,26.86956522,9,1.8696,1\n",
            "7,25,4,0,18,73,200,1,0,18,0.854166667,666,1.0,0,0.736263736,0.38,0,0,25.32,13,1.92,1\n",
            "14,19,1,0,8,42,99,2,7,3,0.7888888890000001,329,1.0,1,0.0,0.263157895,0,0,16.05263158,5,1.5789,1\n",
            "30,37,6,0,26,120,570,2,26,24,0.848765432,1123,0.666666667,0,0.8252427179999999,0.12012012,4,18,29.10810811,9,2.5676,1\n",
            "37,8,1,0,32,104,8,4,29,3,0.80952381,955,1.0,2,0.0,0.3125,0,0,118.0,4,1.5,1\n",
            "58,35,4,0,16,103,429,0,0,28,0.8941176470000001,824,0.933333333,1,0.663366337,0.314285714,2,4,22.11428571,2,1.0,1\n",
            "60,74,1,0,40,190,2181,13,30,72,0.8829908679999999,1443,1.0,8,0.0,0.067567568,0,0,18.17567568,6,1.4189,1\n",
            "61,9,2,0,19,39,34,8,13,5,0.9375,178,0.5,1,0.3,0.328125,1,1,18.55555556,1,0.7778,1\n",
            "73,15,4,0,13,64,57,0,0,14,0.8214285709999999,411,1.0,0,0.827160494,0.306666667,1,2,26.0,5,1.2,1\n",
            "92,5,2,0,10,44,0,3,7,5,0.5,305,1.0,2,0.833333333,0.6,1,1,59.4,1,0.8,1\n",
            "95,8,1,0,3,35,20,2,1,4,0.80952381,303,1.0,0,0.0,0.35714285700000004,0,0,36.5,4,1.25,1\n",
            "110,10,1,0,17,62,11,1,0,5,0.7666666670000001,491,1.0,1,0.0,0.233333333,0,0,47.1,2,1.1,1\n",
            "120,57,2,1,56,242,1504,8,54,27,0.9502551020000001,2550,0.7857142859999999,3,0.537815126,0.113945578,2,5,43.49122807,9,2.0351,1\n",
            "121,5,1,0,2,6,2,1,1,5,0.75,36,1.0,0,0.0,0.6,0,0,5.4,1,0.8,1\n",
            "124,29,2,0,21,104,236,1,20,22,0.767857143,733,1.0,0,0.695652174,0.143236074,1,4,24.13793103,5,1.7586,1\n",
            "139,38,4,4,21,104,613,4,0,29,0.897683398,839,1.0,1,0.644230769,0.22556391,1,1,20.71052632,18,1.8158,1\n",
            "148,11,1,0,43,11,55,35,8,11,2.0,11,0.0,0,0.0,0.409090909,0,0,0.0,1,1.0,1\n",
            "155,11,1,0,14,24,17,10,4,10,0.54,107,1.0,0,0.0,0.393939394,0,0,8.272727273,2,1.1818,1\n",
            "188,8,1,0,27,8,28,14,14,8,2.0,8,0.0,0,0.0,0.267857143,0,0,0.0,1,1.0,1\n",
            "198,8,2,0,9,61,28,2,7,6,1.142857143,544,1.0,0,0.611111111,0.375,1,3,66.875,4,1.625,1\n",
            "208,28,1,0,11,72,118,5,10,18,0.994026284,719,0.967741935,0,0.0,0.220238095,0,0,23.57142857,6,2.7143,1\n",
            "211,4,1,0,6,4,6,6,0,4,2.0,4,0.0,0,0.0,1.0,0,0,0.0,1,1.0,1\n",
            "215,12,1,0,10,64,0,1,10,7,0.545454545,444,1.0,1,0.0,0.243055556,0,0,35.75,6,2.6667,1\n",
            "220,16,4,0,8,27,68,0,0,16,0.847619048,175,1.0,0,0.817073171,0.71875,0,0,9.5,1,0.9375,1\n",
            "248,48,1,0,16,109,118,3,15,39,0.795744681,719,1.0,5,0.0,0.147569444,0,0,13.77083333,6,1.625,1\n",
            "255,12,4,0,8,24,30,0,0,12,0.8,124,1.0,0,0.8589743590000001,0.708333333,0,0,8.916666667000001,1,0.9167,1\n",
            "270,6,1,0,5,22,0,3,3,4,0.6,84,1.0,2,0.0,0.444444444,0,0,12.5,2,1.0,1\n",
            "289,77,1,0,50,243,2706,4,49,49,0.947916667,2480,1.0,4,0.0,0.08755060699999999,0,0,30.8961039,11,1.9481,1\n",
            "290,13,1,0,29,148,78,0,0,1,0.9722222220000001,1407,0.333333333,0,0.0,0.192307692,0,0,107.0,8,2.3077,1\n",
            "291,11,1,0,12,52,37,4,0,5,0.7,360,1.0,1,0.0,0.38333333299999994,0,0,31.36363636,8,1.8182,1\n",
            "293,99,1,0,65,293,3615,31,42,73,0.8769841270000001,2894,1.0,9,0.0,0.09050576800000001,1,1,28.05050505,21,2.202,1\n",
            "302,29,1,0,39,116,90,1,38,22,0.915584416,1109,0.818181818,5,0.0,0.149350649,0,0,36.86206897,14,2.069,1\n",
            "314,33,1,0,54,277,194,9,48,20,0.75625,2591,1.0,4,0.0,0.10955711,0,0,77.36363636,19,4.0,1\n",
            "317,22,2,0,20,143,0,2,20,5,0.761904762,1648,1.0,2,0.447368421,0.331168831,1,2,73.36363636,16,2.8636,1\n",
            "325,11,1,0,11,44,49,8,3,8,0.95,279,0.5,0,0.0,0.233333333,0,0,23.63636364,8,1.5455,1\n",
            "336,19,1,1,32,29,107,29,3,19,0.895833333,186,0.875,3,0.0,0.195488722,0,0,8.368421052999999,5,1.2105,1\n",
            "339,65,1,3,41,131,2010,5,37,39,0.911057692,810,1.0,5,0.0,0.077591973,0,0,11.26153846,5,1.4,1\n",
            "345,55,1,0,31,123,1255,17,15,41,0.87037037,1167,1.0,6,0.0,0.108932462,0,0,19.94545455,9,1.7091,1\n",
            "351,7,1,0,10,44,19,4,7,4,0.916666667,348,0.5,0,0.0,0.35416666700000005,0,0,48.42857143,1,0.7143,1\n"
          ]
        }
      ]
    },
    {
      "cell_type": "code",
      "metadata": {
        "colab": {
          "base_uri": "https://localhost:8080/"
        },
        "id": "oYn4FUvwvpQH",
        "outputId": "01d1d530-ccc6-4481-d88a-08f596b5b0fd"
      },
      "source": [
        "D0.iloc[:,:-1].shape"
      ],
      "execution_count": null,
      "outputs": [
        {
          "output_type": "execute_result",
          "data": {
            "text/plain": [
              "(40, 20)"
            ]
          },
          "metadata": {},
          "execution_count": 30
        }
      ]
    },
    {
      "cell_type": "code",
      "metadata": {
        "colab": {
          "base_uri": "https://localhost:8080/"
        },
        "id": "6EO7Z-C-vyik",
        "outputId": "3988a62a-e295-433d-9033-e5d9118c976f"
      },
      "source": [
        "C = D0.groupby('bug', as_index=False)[\"wmc\"\t,\"dit\",\t\"noc\"\t,\"cbo\"\t,\"rfc\",\t\"lcom\",\t\"ca\",\t\"ce\",\t\"npm\"\t,\"lcom3\",\t\"loc\",\t\"dam\",\t\"moa\"\t,\"mfa\"\t,\"cam\",\t\"ic\",\t\"cbm\",\t\"amc\",\t\"max_cc\",\t\"avg_cc\"].mean()"
      ],
      "execution_count": null,
      "outputs": [
        {
          "output_type": "stream",
          "name": "stderr",
          "text": [
            "/usr/local/lib/python3.7/dist-packages/ipykernel_launcher.py:1: FutureWarning: Indexing with multiple keys (implicitly converted to a tuple of keys) will be deprecated, use a list instead.\n",
            "  \"\"\"Entry point for launching an IPython kernel.\n"
          ]
        }
      ]
    },
    {
      "cell_type": "code",
      "metadata": {
        "colab": {
          "base_uri": "https://localhost:8080/"
        },
        "id": "0IA_3BJXxSS_",
        "outputId": "749cd099-d60b-4f74-c2b2-ffc5d30d2d17"
      },
      "source": [
        "temp = [\"wmc\"\t,\"dit\",\t\"noc\"\t,\"cbo\"\t,\"rfc\",\t\"lcom\",\t\"ca\",\t\"ce\",\t\"npm\"\t,\"lcom3\",\t\"loc\",\t\"dam\",\t\"moa\"\t,\"mfa\"\t,\"cam\",\t\"ic\",\t\"cbm\",\t\"amc\",\t\"max_cc\",\t\"avg_cc\"]\n",
        "len(temp)"
      ],
      "execution_count": null,
      "outputs": [
        {
          "output_type": "execute_result",
          "data": {
            "text/plain": [
              "20"
            ]
          },
          "metadata": {},
          "execution_count": 32
        }
      ]
    },
    {
      "cell_type": "code",
      "metadata": {
        "id": "UkLGh5ATxqDz"
      },
      "source": [
        "from scipy.spatial import distance"
      ],
      "execution_count": null,
      "outputs": []
    },
    {
      "cell_type": "code",
      "metadata": {
        "id": "v5tKjAv5x-FK"
      },
      "source": [
        "dist = []\n",
        "cols = []\n",
        "for i in range(len(D0)):\n",
        "  for j in range(0,20):\n",
        "    eDistance = distance.euclidean(C[temp[j]],D0[temp[j]].iloc[i])\n",
        "    dist.append(eDistance)\n",
        "    cols.append([j,min(dist),i])\n"
      ],
      "execution_count": null,
      "outputs": []
    },
    {
      "cell_type": "code",
      "metadata": {
        "colab": {
          "base_uri": "https://localhost:8080/"
        },
        "id": "reGVn3Yzy50X",
        "outputId": "c9af145c-71fa-41bd-9865-47bc568ed0f2"
      },
      "source": [
        "min(dist)"
      ],
      "execution_count": null,
      "outputs": [
        {
          "output_type": "execute_result",
          "data": {
            "text/plain": [
              "0.0017341329749998025"
            ]
          },
          "metadata": {},
          "execution_count": 35
        }
      ]
    },
    {
      "cell_type": "code",
      "metadata": {
        "colab": {
          "base_uri": "https://localhost:8080/"
        },
        "id": "JxReItZAy7-r",
        "outputId": "4e972b9d-cf57-4a89-8c96-9bb84e02ff19"
      },
      "source": [
        "for i in range(len(dist)):\n",
        "  if dist[i] == min(dist):\n",
        "    print(i)"
      ],
      "execution_count": null,
      "outputs": [
        {
          "output_type": "stream",
          "name": "stdout",
          "text": [
            "651\n"
          ]
        }
      ]
    },
    {
      "cell_type": "code",
      "metadata": {
        "id": "1rlnU4GlzEd-"
      },
      "source": [
        "x = D0['moa'].iloc[11]\n"
      ],
      "execution_count": null,
      "outputs": []
    },
    {
      "cell_type": "code",
      "metadata": {
        "id": "96m1Ge6a44jN"
      },
      "source": [
        "y = C['moa']"
      ],
      "execution_count": null,
      "outputs": []
    },
    {
      "cell_type": "code",
      "metadata": {
        "colab": {
          "base_uri": "https://localhost:8080/"
        },
        "id": "VdXVHcXO5pSv",
        "outputId": "d91658ab-1c5d-41de-f6ef-63a9890b5117"
      },
      "source": [
        "eDistance = distance.euclidean(x,y)\n",
        "print(eDistance)"
      ],
      "execution_count": null,
      "outputs": [
        {
          "output_type": "stream",
          "name": "stdout",
          "text": [
            "1.7\n"
          ]
        }
      ]
    },
    {
      "cell_type": "code",
      "metadata": {
        "id": "_VACBBth6qJc",
        "colab": {
          "base_uri": "https://localhost:8080/"
        },
        "outputId": "cffe36b5-c96f-4f3e-abfd-402df17de6b0"
      },
      "source": [
        "n = Dj.shape[0] - D0.shape[0]\n",
        "print(n)"
      ],
      "execution_count": null,
      "outputs": [
        {
          "output_type": "stream",
          "name": "stdout",
          "text": [
            "272\n"
          ]
        }
      ]
    },
    {
      "cell_type": "code",
      "metadata": {
        "id": "XY3vveWY6u_m"
      },
      "source": [
        "import  random"
      ],
      "execution_count": null,
      "outputs": []
    },
    {
      "cell_type": "code",
      "metadata": {
        "colab": {
          "base_uri": "https://localhost:8080/"
        },
        "id": "wS1McEh17h1P",
        "outputId": "1ba4f101-0691-4aec-d3fc-74d1250b3b7d"
      },
      "source": [
        "D0.shape"
      ],
      "execution_count": null,
      "outputs": [
        {
          "output_type": "execute_result",
          "data": {
            "text/plain": [
              "(40, 21)"
            ]
          },
          "metadata": {},
          "execution_count": 42
        }
      ]
    },
    {
      "cell_type": "code",
      "metadata": {
        "colab": {
          "base_uri": "https://localhost:8080/"
        },
        "id": "A-zDJVy87Sdd",
        "outputId": "c30511a8-43ab-47f9-8a21-7733bd9aafcf"
      },
      "source": [
        "D0.head()"
      ],
      "execution_count": null,
      "outputs": [
        {
          "output_type": "execute_result",
          "data": {
            "text/html": [
              "<div>\n",
              "<style scoped>\n",
              "    .dataframe tbody tr th:only-of-type {\n",
              "        vertical-align: middle;\n",
              "    }\n",
              "\n",
              "    .dataframe tbody tr th {\n",
              "        vertical-align: top;\n",
              "    }\n",
              "\n",
              "    .dataframe thead th {\n",
              "        text-align: right;\n",
              "    }\n",
              "</style>\n",
              "<table border=\"1\" class=\"dataframe\">\n",
              "  <thead>\n",
              "    <tr style=\"text-align: right;\">\n",
              "      <th></th>\n",
              "      <th>wmc</th>\n",
              "      <th>dit</th>\n",
              "      <th>noc</th>\n",
              "      <th>cbo</th>\n",
              "      <th>rfc</th>\n",
              "      <th>lcom</th>\n",
              "      <th>ca</th>\n",
              "      <th>ce</th>\n",
              "      <th>npm</th>\n",
              "      <th>lcom3</th>\n",
              "      <th>loc</th>\n",
              "      <th>dam</th>\n",
              "      <th>moa</th>\n",
              "      <th>mfa</th>\n",
              "      <th>cam</th>\n",
              "      <th>ic</th>\n",
              "      <th>cbm</th>\n",
              "      <th>amc</th>\n",
              "      <th>max_cc</th>\n",
              "      <th>avg_cc</th>\n",
              "      <th>bug</th>\n",
              "    </tr>\n",
              "  </thead>\n",
              "  <tbody>\n",
              "    <tr>\n",
              "      <th>0</th>\n",
              "      <td>28</td>\n",
              "      <td>1</td>\n",
              "      <td>0</td>\n",
              "      <td>32</td>\n",
              "      <td>82</td>\n",
              "      <td>374</td>\n",
              "      <td>26</td>\n",
              "      <td>7</td>\n",
              "      <td>24</td>\n",
              "      <td>1.012346</td>\n",
              "      <td>926</td>\n",
              "      <td>0.166667</td>\n",
              "      <td>0</td>\n",
              "      <td>0.000000</td>\n",
              "      <td>0.226337</td>\n",
              "      <td>0</td>\n",
              "      <td>0</td>\n",
              "      <td>31.642857</td>\n",
              "      <td>23</td>\n",
              "      <td>2.6786</td>\n",
              "      <td>1</td>\n",
              "    </tr>\n",
              "    <tr>\n",
              "      <th>5</th>\n",
              "      <td>23</td>\n",
              "      <td>2</td>\n",
              "      <td>0</td>\n",
              "      <td>150</td>\n",
              "      <td>67</td>\n",
              "      <td>235</td>\n",
              "      <td>147</td>\n",
              "      <td>5</td>\n",
              "      <td>20</td>\n",
              "      <td>0.852273</td>\n",
              "      <td>653</td>\n",
              "      <td>0.750000</td>\n",
              "      <td>1</td>\n",
              "      <td>0.280000</td>\n",
              "      <td>0.280303</td>\n",
              "      <td>1</td>\n",
              "      <td>1</td>\n",
              "      <td>26.869565</td>\n",
              "      <td>9</td>\n",
              "      <td>1.8696</td>\n",
              "      <td>1</td>\n",
              "    </tr>\n",
              "    <tr>\n",
              "      <th>7</th>\n",
              "      <td>25</td>\n",
              "      <td>4</td>\n",
              "      <td>0</td>\n",
              "      <td>18</td>\n",
              "      <td>73</td>\n",
              "      <td>200</td>\n",
              "      <td>1</td>\n",
              "      <td>0</td>\n",
              "      <td>18</td>\n",
              "      <td>0.854167</td>\n",
              "      <td>666</td>\n",
              "      <td>1.000000</td>\n",
              "      <td>0</td>\n",
              "      <td>0.736264</td>\n",
              "      <td>0.380000</td>\n",
              "      <td>0</td>\n",
              "      <td>0</td>\n",
              "      <td>25.320000</td>\n",
              "      <td>13</td>\n",
              "      <td>1.9200</td>\n",
              "      <td>1</td>\n",
              "    </tr>\n",
              "    <tr>\n",
              "      <th>14</th>\n",
              "      <td>19</td>\n",
              "      <td>1</td>\n",
              "      <td>0</td>\n",
              "      <td>8</td>\n",
              "      <td>42</td>\n",
              "      <td>99</td>\n",
              "      <td>2</td>\n",
              "      <td>7</td>\n",
              "      <td>3</td>\n",
              "      <td>0.788889</td>\n",
              "      <td>329</td>\n",
              "      <td>1.000000</td>\n",
              "      <td>1</td>\n",
              "      <td>0.000000</td>\n",
              "      <td>0.263158</td>\n",
              "      <td>0</td>\n",
              "      <td>0</td>\n",
              "      <td>16.052632</td>\n",
              "      <td>5</td>\n",
              "      <td>1.5789</td>\n",
              "      <td>1</td>\n",
              "    </tr>\n",
              "    <tr>\n",
              "      <th>30</th>\n",
              "      <td>37</td>\n",
              "      <td>6</td>\n",
              "      <td>0</td>\n",
              "      <td>26</td>\n",
              "      <td>120</td>\n",
              "      <td>570</td>\n",
              "      <td>2</td>\n",
              "      <td>26</td>\n",
              "      <td>24</td>\n",
              "      <td>0.848765</td>\n",
              "      <td>1123</td>\n",
              "      <td>0.666667</td>\n",
              "      <td>0</td>\n",
              "      <td>0.825243</td>\n",
              "      <td>0.120120</td>\n",
              "      <td>4</td>\n",
              "      <td>18</td>\n",
              "      <td>29.108108</td>\n",
              "      <td>9</td>\n",
              "      <td>2.5676</td>\n",
              "      <td>1</td>\n",
              "    </tr>\n",
              "  </tbody>\n",
              "</table>\n",
              "</div>"
            ],
            "text/plain": [
              "    wmc  dit  noc  cbo  rfc  lcom  ...  ic  cbm        amc  max_cc  avg_cc  bug\n",
              "0    28    1    0   32   82   374  ...   0    0  31.642857      23  2.6786    1\n",
              "5    23    2    0  150   67   235  ...   1    1  26.869565       9  1.8696    1\n",
              "7    25    4    0   18   73   200  ...   0    0  25.320000      13  1.9200    1\n",
              "14   19    1    0    8   42    99  ...   0    0  16.052632       5  1.5789    1\n",
              "30   37    6    0   26  120   570  ...   4   18  29.108108       9  2.5676    1\n",
              "\n",
              "[5 rows x 21 columns]"
            ]
          },
          "metadata": {},
          "execution_count": 43
        }
      ]
    },
    {
      "cell_type": "code",
      "metadata": {
        "id": "R-zaFxwx7X6O"
      },
      "source": [
        "import numpy"
      ],
      "execution_count": null,
      "outputs": []
    },
    {
      "cell_type": "code",
      "metadata": {
        "colab": {
          "base_uri": "https://localhost:8080/"
        },
        "id": "l6pcmNpU72Dx",
        "outputId": "518c262a-5632-4c91-9f1d-0fe98cc28568"
      },
      "source": [
        "scorer = D0.iloc[11]\n",
        "print(numpy.array(scorer))"
      ],
      "execution_count": null,
      "outputs": [
        {
          "output_type": "stream",
          "name": "stdout",
          "text": [
            "[  8.           1.           0.           3.          35.\n",
            "  20.           2.           1.           4.           0.80952381\n",
            " 303.           1.           0.           0.           0.35714286\n",
            "   0.           0.          36.5          4.           1.25\n",
            "   1.        ]\n"
          ]
        }
      ]
    },
    {
      "cell_type": "code",
      "metadata": {
        "id": "p7voFt4V8Sni"
      },
      "source": [
        "tempscorer = numpy.array(scorer)\n",
        "tempC = numpy.array(C)[0][1:]"
      ],
      "execution_count": null,
      "outputs": []
    },
    {
      "cell_type": "code",
      "metadata": {
        "id": "fADja92r8UDT"
      },
      "source": [
        "with open(\"hello.csv\",\"a\") as f:\n",
        "  for i in range(13,n+13):\n",
        "    l1 = []\n",
        "    k = random.randint(0,1000)/1000\n",
        "    for i in range(20):\n",
        "        l1.append(tempscorer[i] + (k * tempC[i]))\n",
        "    #   print(l1)\n",
        "    f.write(\",\".join(str(v) for v in l1))\n",
        "    f.write(\"\\n\")"
      ],
      "execution_count": null,
      "outputs": []
    },
    {
      "cell_type": "code",
      "metadata": {
        "colab": {
          "base_uri": "https://localhost:8080/"
        },
        "id": "uMuf9Edm9DkK",
        "outputId": "b850046a-872f-4725-8dfb-cf482e6aba72"
      },
      "source": [
        "!cat hello.csv"
      ],
      "execution_count": null,
      "outputs": [
        {
          "output_type": "stream",
          "name": "stdout",
          "text": [
            ",wmc,dit,noc,cbo,rfc,lcom,ca,ce,npm,lcom3,loc,dam,moa,mfa,cam,ic,cbm,amc,max_cc,avg_cc,bug\n",
            "0,28,1,0,32,82,374,26,7,24,1.012345679,926,0.166666667,0,0.0,0.226337449,0,0,31.64285714,23,2.6786,1\n",
            "5,23,2,0,150,67,235,147,5,20,0.852272727,653,0.75,1,0.28,0.28030303,1,1,26.86956522,9,1.8696,1\n",
            "7,25,4,0,18,73,200,1,0,18,0.854166667,666,1.0,0,0.736263736,0.38,0,0,25.32,13,1.92,1\n",
            "14,19,1,0,8,42,99,2,7,3,0.7888888890000001,329,1.0,1,0.0,0.263157895,0,0,16.05263158,5,1.5789,1\n",
            "30,37,6,0,26,120,570,2,26,24,0.848765432,1123,0.666666667,0,0.8252427179999999,0.12012012,4,18,29.10810811,9,2.5676,1\n",
            "37,8,1,0,32,104,8,4,29,3,0.80952381,955,1.0,2,0.0,0.3125,0,0,118.0,4,1.5,1\n",
            "58,35,4,0,16,103,429,0,0,28,0.8941176470000001,824,0.933333333,1,0.663366337,0.314285714,2,4,22.11428571,2,1.0,1\n",
            "60,74,1,0,40,190,2181,13,30,72,0.8829908679999999,1443,1.0,8,0.0,0.067567568,0,0,18.17567568,6,1.4189,1\n",
            "61,9,2,0,19,39,34,8,13,5,0.9375,178,0.5,1,0.3,0.328125,1,1,18.55555556,1,0.7778,1\n",
            "73,15,4,0,13,64,57,0,0,14,0.8214285709999999,411,1.0,0,0.827160494,0.306666667,1,2,26.0,5,1.2,1\n",
            "92,5,2,0,10,44,0,3,7,5,0.5,305,1.0,2,0.833333333,0.6,1,1,59.4,1,0.8,1\n",
            "95,8,1,0,3,35,20,2,1,4,0.80952381,303,1.0,0,0.0,0.35714285700000004,0,0,36.5,4,1.25,1\n",
            "110,10,1,0,17,62,11,1,0,5,0.7666666670000001,491,1.0,1,0.0,0.233333333,0,0,47.1,2,1.1,1\n",
            "120,57,2,1,56,242,1504,8,54,27,0.9502551020000001,2550,0.7857142859999999,3,0.537815126,0.113945578,2,5,43.49122807,9,2.0351,1\n",
            "121,5,1,0,2,6,2,1,1,5,0.75,36,1.0,0,0.0,0.6,0,0,5.4,1,0.8,1\n",
            "124,29,2,0,21,104,236,1,20,22,0.767857143,733,1.0,0,0.695652174,0.143236074,1,4,24.13793103,5,1.7586,1\n",
            "139,38,4,4,21,104,613,4,0,29,0.897683398,839,1.0,1,0.644230769,0.22556391,1,1,20.71052632,18,1.8158,1\n",
            "148,11,1,0,43,11,55,35,8,11,2.0,11,0.0,0,0.0,0.409090909,0,0,0.0,1,1.0,1\n",
            "155,11,1,0,14,24,17,10,4,10,0.54,107,1.0,0,0.0,0.393939394,0,0,8.272727273,2,1.1818,1\n",
            "188,8,1,0,27,8,28,14,14,8,2.0,8,0.0,0,0.0,0.267857143,0,0,0.0,1,1.0,1\n",
            "198,8,2,0,9,61,28,2,7,6,1.142857143,544,1.0,0,0.611111111,0.375,1,3,66.875,4,1.625,1\n",
            "208,28,1,0,11,72,118,5,10,18,0.994026284,719,0.967741935,0,0.0,0.220238095,0,0,23.57142857,6,2.7143,1\n",
            "211,4,1,0,6,4,6,6,0,4,2.0,4,0.0,0,0.0,1.0,0,0,0.0,1,1.0,1\n",
            "215,12,1,0,10,64,0,1,10,7,0.545454545,444,1.0,1,0.0,0.243055556,0,0,35.75,6,2.6667,1\n",
            "220,16,4,0,8,27,68,0,0,16,0.847619048,175,1.0,0,0.817073171,0.71875,0,0,9.5,1,0.9375,1\n",
            "248,48,1,0,16,109,118,3,15,39,0.795744681,719,1.0,5,0.0,0.147569444,0,0,13.77083333,6,1.625,1\n",
            "255,12,4,0,8,24,30,0,0,12,0.8,124,1.0,0,0.8589743590000001,0.708333333,0,0,8.916666667000001,1,0.9167,1\n",
            "270,6,1,0,5,22,0,3,3,4,0.6,84,1.0,2,0.0,0.444444444,0,0,12.5,2,1.0,1\n",
            "289,77,1,0,50,243,2706,4,49,49,0.947916667,2480,1.0,4,0.0,0.08755060699999999,0,0,30.8961039,11,1.9481,1\n",
            "290,13,1,0,29,148,78,0,0,1,0.9722222220000001,1407,0.333333333,0,0.0,0.192307692,0,0,107.0,8,2.3077,1\n",
            "291,11,1,0,12,52,37,4,0,5,0.7,360,1.0,1,0.0,0.38333333299999994,0,0,31.36363636,8,1.8182,1\n",
            "293,99,1,0,65,293,3615,31,42,73,0.8769841270000001,2894,1.0,9,0.0,0.09050576800000001,1,1,28.05050505,21,2.202,1\n",
            "302,29,1,0,39,116,90,1,38,22,0.915584416,1109,0.818181818,5,0.0,0.149350649,0,0,36.86206897,14,2.069,1\n",
            "314,33,1,0,54,277,194,9,48,20,0.75625,2591,1.0,4,0.0,0.10955711,0,0,77.36363636,19,4.0,1\n",
            "317,22,2,0,20,143,0,2,20,5,0.761904762,1648,1.0,2,0.447368421,0.331168831,1,2,73.36363636,16,2.8636,1\n",
            "325,11,1,0,11,44,49,8,3,8,0.95,279,0.5,0,0.0,0.233333333,0,0,23.63636364,8,1.5455,1\n",
            "336,19,1,1,32,29,107,29,3,19,0.895833333,186,0.875,3,0.0,0.195488722,0,0,8.368421052999999,5,1.2105,1\n",
            "339,65,1,3,41,131,2010,5,37,39,0.911057692,810,1.0,5,0.0,0.077591973,0,0,11.26153846,5,1.4,1\n",
            "345,55,1,0,31,123,1255,17,15,41,0.87037037,1167,1.0,6,0.0,0.108932462,0,0,19.94545455,9,1.7091,1\n",
            "351,7,1,0,10,44,19,4,7,4,0.916666667,348,0.5,0,0.0,0.35416666700000005,0,0,48.42857143,1,0.7143,1\n",
            "10.884,1.196,0.0252,5.898,44.94,68.1628,3.1648,2.4924,6.0412,0.9128003494276,389.7524,1.0918305865092,0.19039999999999999,0.0254172568972,0.39106163884800005,0.047599999999999996,0.1204,39.9839698779004,4.7644,1.43347252\n",
            "8.18025,1.01225,0.001575,3.181125,35.62125,23.010175,2.0728,1.093275,4.127575,0.815978593714225,308.422025,1.005739411656825,0.011899999999999999,0.001588578556075,0.3592627808655,0.0029749999999999998,0.007525,36.71774811736878,4.047775,1.2614670325\n",
            "27.0035,2.2915,0.16605,22.09575,100.4975,337.35845,9.6752,10.83385,17.45005,1.4900424358711502,874.63635,1.60509797181955,1.2546,0.16748156776905,0.580643401677,0.31365,0.79335,59.45687294545085,9.036850000000001,2.4589528549999997\n",
            "12.017,1.2730000000000001,0.0351,7.0365,48.845,87.0839,3.6224,3.0787,6.8431,0.9533732756313,423.8337,1.1279068883521,0.2652,0.0354026078211,0.404386874574,0.0663,0.1677,41.3526723299327,5.0647,1.50555101\n",
            "28.445500000000003,2.3895,0.17865,23.54475,105.4675,361.43985,10.2576,11.58005,18.470650000000003,1.5416807055849502,918.01255,1.65101326507415,1.3498,0.18019019621765,0.597602792601,0.33745,0.85355,61.19885788440105,9.41905,2.550689115\n",
            "29.70725,2.47525,0.189675,24.812625,109.81625,382.51107499999995,10.7672,12.232975,19.363675,1.586864191584525,955.966725,1.6911891466719249,1.4330999999999998,0.191310246110175,0.6124422596595,0.35827499999999995,0.906225,62.723094705982476,9.753475,2.6309583424999996\n",
            "19.639000000000003,1.791,0.1017,14.695500000000001,75.11500000000001,214.3713,6.7008,7.0229,12.2377,1.2263184155471,653.1079,1.3706020098407,0.7684,0.10257678676370001,0.494029369458,0.1921,0.4859,50.5603070072409,7.0849,1.99044267\n",
            "14.56625,1.44625,0.057375,9.598125,57.63125,129.656375,4.652,4.397875,8.647375,1.044662359589625,500.516625,1.2090785674986249,0.4335,0.057869647399875004,0.43436865495750004,0.108375,0.274125,44.43225284700537,5.740375,1.6677276125\n",
            "22.265500000000003,1.9695,0.12465000000000001,17.33475,84.1675,258.23385,7.7616000000000005,8.38205,14.096650000000002,1.3203738353829502,732.11455,1.45423343684015,0.9418000000000001,0.12572464572365002,0.524919688641,0.23545000000000002,0.59555,53.733208146043054,7.7810500000000005,2.157533715\n",
            "23.42425,2.04825,0.134775,18.499125,88.16125,277.584975,8.2296,8.981675,14.916775000000001,1.361868873545825,766.970425,1.491129654634025,1.0183,0.135936936441275,0.5385477706335,0.254575,0.643925,55.13301747198517,8.088175,2.2312503525\n",
            "17.064,1.616,0.07919999999999999,12.107999999999999,66.24,171.3688,5.6608,5.6903999999999995,10.4152,1.1341072196296,575.6504,1.2886104147432,0.5983999999999999,0.0798828073912,0.46374474280800004,0.14959999999999998,0.37839999999999996,47.4496196162584,6.4024,1.82662792\n",
            "25.89625,2.2162499999999996,0.156375,20.983124999999998,96.68125,318.867375,9.228,10.260874999999999,16.666375000000002,1.450391621626625,841.329625,1.569841585927625,1.1815,0.15772315663887498,0.5676210122175,0.295375,0.7471249999999999,58.11927736732837,8.743375,2.3885125124999997\n",
            "15.59625,1.5162499999999999,0.066375,10.633125,61.18125,146.857375,5.068,4.9308749999999995,9.376375,1.0815468379566249,531.499625,1.241875205537625,0.5015,0.066947239148875,0.4464825056175,0.125375,0.317125,45.67652780339837,6.013375,1.7332535125\n",
            "27.33825,2.31425,0.16897500000000001,22.432125,101.65125,342.94877499999996,9.810400000000001,11.007074999999999,17.686975,1.502029891340425,884.705825,1.615756879182225,1.2767,0.170431785087475,0.5845804031415001,0.319175,0.807325,59.861262306278576,9.125575000000001,2.4802487725\n",
            "25.12375,2.1637500000000003,0.149625,20.206875,94.01875000000001,305.966625,8.916,9.861125,16.119625,1.422728262851375,818.0923750000001,1.545244107398375,1.1305,0.15091496282712502,0.5585356242225,0.282625,0.714875,57.18607115003363,8.538625,2.3393680875\n",
            "14.025500000000001,1.4095,0.05265,9.05475,55.7675,120.62585,4.4336,4.11805,8.26465,1.02529800844695,484.25055000000003,1.19186033252815,0.3978,0.05310391173165,0.42800888336100007,0.09945,0.25155,43.77900849489905,5.59705,1.633326515\n",
            "11.708,1.252,0.0324,6.725999999999999,47.78,81.9236,3.4976000000000003,2.9188,6.6244,0.9423079321212,414.5388,1.1180678969403999,0.24479999999999996,0.0326793302964,0.40075271937600004,0.06119999999999999,0.1548,40.9793898430148,4.9828,1.48589324\n",
            "23.5015,2.0534999999999997,0.13545,18.576749999999997,88.4275,278.87505,8.2608,9.02165,14.97145,1.36463520942335,769.29415,1.4935894024869498,1.0233999999999999,0.13661775582245,0.539456309433,0.25584999999999997,0.64715,55.226338093714645,8.10865,2.2361647949999996\n",
            "24.66025,2.13225,0.145575,19.741125,92.42125,298.226175,8.7288,9.621275,15.791575000000002,1.406130247586225,804.150025,1.530485620280825,1.0999,0.146830046540075,0.5530843914255,0.274975,0.695525,56.626147419656775,8.415775,2.3098814325\n",
            "18.3515,1.7035,0.09045,13.40175,70.67750000000001,192.87005,6.1808000000000005,6.35665,11.326450000000001,1.18021281758835,614.37915,1.3296062122919499,0.6834,0.09122979707745,0.47888705613300003,0.17085,0.43215000000000003,49.00496331174965,6.743650000000001,1.908535295\n",
            "15.49325,1.50925,0.06547499999999999,10.529625,60.82625,145.137275,5.0264,4.877574999999999,9.303474999999999,1.077858390119925,528.401325,1.2385955417337249,0.4947,0.066039479973975,0.44527112055150003,0.123675,0.31282499999999996,45.552100307759076,5.986075,1.7267009225\n",
            "13.15,1.35,0.045000000000000005,8.175,52.75,106.005,4.08,3.665,7.6450000000000005,0.993946201835,457.915,1.163983190195,0.34,0.045387958745000005,0.41771211030000005,0.085,0.215,42.721374781965,5.365,1.5776295\n",
            "28.574250000000003,2.39825,0.17977500000000002,23.674125,105.91125000000001,363.589975,10.309600000000001,11.646675,18.561775000000004,1.5462912653808252,921.885425,1.6551128448290249,1.3583,0.181324895186275,0.5991170239335001,0.339575,0.858925,61.354392253950174,9.453175000000002,2.5588798525\n",
            "28.806,2.414,0.18180000000000002,23.907,106.71000000000001,367.4602,10.4032,11.7666,18.7258,1.5545902730134,928.8566000000001,1.6624920883878,1.3736000000000002,0.1833673533298,0.6018426403320001,0.34340000000000004,0.8686,61.6343541191386,9.514600000000002,2.5736231800000002\n",
            "13.278749999999999,1.35875,0.046125,8.304375,53.193749999999994,108.15512499999998,4.132,3.7316249999999997,7.7361249999999995,0.998556761630875,461.787875,1.168082769949875,0.3485,0.046522657713625,0.41922634163250005,0.087125,0.220375,42.87690915151413,5.399125,1.5858202375\n",
            "28.651500000000002,2.4035,0.18045000000000003,23.75175,106.17750000000001,364.88005,10.340800000000002,11.68665,18.61645,1.5490576012583501,924.20915,1.6575725926819498,1.3634,0.18200571456745002,0.600025562733,0.34085,0.86215,61.44771287567965,9.47365,2.563794295\n",
            "32.7715,2.6835,0.21645,27.89175,120.3775,433.68404999999996,12.0048,13.818649999999998,21.53245,1.6965955147263503,1048.14115,1.7887591448379498,1.6354,0.21831608156345,0.648480965373,0.40885,1.03415,66.42481270125165,10.56565,2.8258978949999998\n",
            "28.2395,2.3755,0.17685,23.33775,104.75750000000001,357.99965,10.1744,11.47345,18.32485,1.5343038099115502,911.81595,1.6444539374663498,1.3362,0.17837467786785002,0.595180022469,0.33405,0.84495,60.950002893122445,9.364450000000001,2.537583935\n",
            "13.9225,1.4025,0.051750000000000004,8.95125,55.4125,118.90575,4.392,4.06475,8.19175,1.02160956061025,481.15225,1.18858066872425,0.391,0.05219615255675,0.426797498295,0.09775,0.24725,43.65458099925975,5.56975,1.626773925\n",
            "13.3045,1.3605,0.046349999999999995,8.33025,53.2825,108.58514999999998,4.1424,3.74495,7.7543500000000005,0.9994788735900499,462.56245,1.16890268590085,0.35019999999999996,0.04674959750735,0.41952918789900007,0.08754999999999999,0.22144999999999998,42.90801602542395,5.40595,1.587458385\n",
            "26.179499999999997,2.2355,0.15885,21.26775,97.6575,323.59765,9.3424,10.407449999999999,16.86685,1.46053485317755,849.84995,1.5788606613883498,1.2002,0.16021949436985,0.5709523211490001,0.30005,0.7589499999999999,58.461452980336446,8.818449999999999,2.406532135\n",
            "32.102000000000004,2.638,0.2106,27.219,118.07000000000001,422.5034,11.7344,13.4722,21.058600000000002,1.6726206037878002,1028.0022000000001,1.7674413301125997,1.5912,0.2124156469266,0.6406069624440001,0.3978,1.0062,65.6160339795962,10.388200000000001,2.78330606\n",
            "28.522750000000002,2.39475,0.179325,23.622375,105.73375,362.729925,10.2888,11.620025,18.525325000000002,1.5444470414624751,920.3362750000001,1.653473012927075,1.3549,0.180871015598825,0.5985113314005001,0.338725,0.8567750000000001,61.292178506130526,9.439525,2.5556035575\n",
            "28.00775,2.35975,0.174825,23.104875,103.95875000000001,354.12942499999997,10.0808,11.353525,18.160825000000003,1.5260048022789752,904.844775,1.6370746939075749,1.3209,0.176332219724325,0.5924544060705,0.330225,0.835275,60.67004102793402,9.303025,2.5228406075\n",
            "26.050749999999997,2.22675,0.157725,21.138375,97.21375,321.447525,9.2904,10.340824999999999,16.775725,1.455924293381675,845.977075,1.5747610816334747,1.1917,0.159084795401225,0.5694380898165,0.297925,0.7535749999999999,58.30591861078732,8.784324999999999,2.3983413975\n",
            "13.407499999999999,1.3675,0.04725,8.43375,53.6375,110.30524999999999,4.184,3.79825,7.82725,1.00316732142675,465.66075,1.1721823497047499,0.357,0.04765735668225,0.420740572965,0.08925,0.22574999999999998,43.03244352106325,5.43325,1.594010975\n",
            "28.6,2.4000000000000004,0.18000000000000002,23.700000000000003,106.0,364.02,10.32,11.66,18.580000000000002,1.5472133773400003,922.6600000000001,1.6559327607799998,1.36,0.18155183498000002,0.5994198702000001,0.34,0.86,61.38549912786,9.46,2.560518\n",
            "18.37725,1.70525,0.090675,13.427625,70.76625,193.300075,6.1912,6.369975,11.344675000000002,1.181134929547525,615.1537250000001,1.3304261282429248,0.6851,0.091456736871175,0.47918990239950005,0.171275,0.433225,49.036070185659476,6.750475,1.9101734425\n",
            "10.575,1.175,0.022500000000000003,5.5875,43.875,63.0025,3.04,2.3325,5.8225,0.9017350059175,380.4575,1.0819915950975,0.17,0.022693979372500003,0.38742748365,0.0425,0.1075,39.6106873909825,4.6825,1.41381475\n",
            "13.047,1.343,0.0441,8.0715,52.394999999999996,104.2849,4.0384,3.6117,7.572100000000001,0.9902577539983,454.8167,1.1607035263910999,0.3332,0.0444801995701,0.41650072523400006,0.0833,0.2107,42.5969472863257,5.3377,1.57107691\n",
            "19.124000000000002,1.756,0.0972,14.177999999999999,73.34,205.77079999999998,6.4928,6.756399999999999,11.8732,1.2078761763636001,637.6164,1.3542036908211998,0.7343999999999999,0.0980379908892,0.487972444128,0.18359999999999999,0.4644,49.9381695290444,6.9483999999999995,1.9576797199999998\n",
            "25.201,2.169,0.15030000000000002,20.2845,94.285,307.2567,8.9472,9.9011,16.174300000000002,1.4254945987289003,820.4161,1.5477038552512998,1.1356,0.1515957822083,0.5594441630220001,0.2839,0.7181,57.2793917717631,8.5591,2.34428253\n",
            "10.8325,1.1925,0.02475,5.8462499999999995,44.7625,67.30275,3.144,2.46575,6.00475,0.91095612550925,388.20325,1.09019075460725,0.187,0.024963377309750002,0.390455946315,0.04675,0.11825,39.92175613008075,4.75075,1.430196225\n",
            "8.28325,1.01925,0.0024749999999999998,3.284625,35.97625,24.730275,2.1144,1.146575,4.200475,0.819667041550925,311.520325,1.009019075460725,0.018699999999999998,0.002496337730975,0.36047416593150006,0.0046749999999999995,0.011824999999999999,36.842175613008074,4.075075,1.2680196225\n",
            "9.57075,1.10675,0.013725,4.578374999999999,40.41375,46.231525,2.6344,1.812825,5.111725,0.865772639509675,350.249075,1.050014873009475,0.1037,0.013843327417225,0.37561647925650005,0.025925,0.065575,38.39751930849933,4.416325,1.3499269975\n",
            "27.776,2.3440000000000003,0.1728,22.872,103.16,350.25919999999996,9.987200000000001,11.2336,17.9968,1.5177057946464,897.8736,1.6296954503488,1.3056,0.1742897615808,0.589728789672,0.3264,0.8256,60.3900791627456,9.2416,2.50809728\n",
            "10.39475,1.16275,0.020925,5.406375000000001,43.25375,59.992325,2.9672,2.2392250000000002,5.694925,0.895280222203275,375.035475,1.076252183440675,0.1581,0.021105400816425,0.38530755978450004,0.039525,0.099975,39.39293927361373,4.6347249999999995,1.4023477175\n",
            "33.31225,2.72025,0.221175,28.435125,122.24125,442.71457499999997,12.2232,14.098474999999999,21.915175,1.7159598658690252,1064.407225,1.8059773798084247,1.6711,0.223081817231675,0.6548407369695001,0.417775,1.056725,67.07805705335798,10.708974999999999,2.8602989924999997\n",
            "22.342750000000002,1.9747500000000002,0.12532500000000002,17.412375,84.43375,259.523925,7.792800000000001,8.422025000000001,14.151325000000002,1.3231401712604751,734.4382750000001,1.456693184693075,0.9469000000000001,0.126405465104825,0.5258282274405001,0.23672500000000002,0.5987750000000001,53.82652876777253,7.801525,2.1624481575\n",
            "27.64725,2.3352500000000003,0.171675,22.742625,102.71625,348.10907499999996,9.9352,11.166974999999999,17.905675000000002,1.513095234850525,894.000725,1.6255958705939249,1.2971,0.173155062612175,0.5882145583395001,0.324275,0.820225,60.23454479319648,9.207475,2.4999065424999998\n",
            "26.3855,2.2495,0.16065,21.47475,98.3675,327.03785,9.4256,10.51405,17.01265,1.46791174885095,856.04655,1.5854199889961498,1.2138,0.16203501271964998,0.5733750912810001,0.30345,0.76755,58.71030797161505,8.87305,2.419637315\n",
            "11.68225,1.2502499999999999,0.032174999999999995,6.700125,47.69125,81.49357499999999,3.4871999999999996,2.905475,6.606175,0.941385820162025,413.764225,1.117247980989425,0.24309999999999998,0.032452390502674996,0.40044987310950003,0.060774999999999996,0.15372499999999997,40.94828296910497,4.975975,1.4842550925\n",
            "26.179499999999997,2.2355,0.15885,21.26775,97.6575,323.59765,9.3424,10.407449999999999,16.86685,1.46053485317755,849.84995,1.5788606613883498,1.2002,0.16021949436985,0.5709523211490001,0.30005,0.7589499999999999,58.461452980336446,8.818449999999999,2.406532135\n",
            "14.077,1.413,0.0531,9.1065,55.945,121.48589999999999,4.4544,4.1447,8.3011,1.0271422323653,485.79970000000003,1.1935001644301,0.40119999999999995,0.0535577913191,0.42861457589400004,0.10029999999999999,0.2537,43.8412222427187,5.6107,1.6366028099999999\n",
            "29.140749999999997,2.43675,0.184725,24.243375,107.86375,373.05052499999994,10.5384,11.939824999999999,18.962725,1.5665777284826752,938.926075,1.6731509957504747,1.3957,0.186317570648225,0.6057796417965,0.348925,0.8825749999999999,62.03874347996632,9.603325,2.5949190975\n",
            "11.527750000000001,1.23975,0.030825,6.544875,47.15875,78.913425,3.4248000000000003,2.825525,6.496825,0.935853148406975,409.116775,1.112328485283575,0.23290000000000002,0.031090751740325002,0.3986327955105,0.058225000000000006,0.14727500000000002,40.76164172564602,4.935025,1.4744262075\n",
            "30.891750000000002,2.5557499999999997,0.200025,26.002875,113.89875,402.292225,11.2456,12.845925,20.202025000000003,1.6292813417065752,991.5971750000001,1.7289052804167748,1.5113,0.201749476621525,0.6263731879185,0.377825,0.9556749999999999,64.15401090583443,10.067425,2.7063131274999996\n",
            "23.6045,2.0605,0.13635,18.68025,88.7825,280.59515,8.3024,9.07495,15.04435,1.3683236572600501,772.39245,1.49686906629085,1.0302,0.13752551499735,0.5406676944990001,0.25755,0.65145,55.35076558935395,8.135950000000001,2.2427173849999997\n",
            "16.9095,1.6055,0.07785,11.95275,65.7075,168.78865,5.5984,5.610449999999999,10.30585,1.1285745478745501,571.00295,1.2836909190373498,0.5882,0.07852116862885,0.461927665209,0.14705,0.37194999999999995,47.26297837279945,6.36145,1.8167990349999998\n",
            "15.95675,1.54075,0.069525,10.995375,62.42375,152.877725,5.2136,5.117425,9.631525,1.094456405385075,542.3436750000001,1.253354028851275,0.5253,0.070124396261025,0.4507223533485,0.131325,0.332175,46.11202403813593,6.108925,1.7561875775\n",
            "11.06425,1.20825,0.026775,6.0791249999999994,45.56125,71.172975,3.2376,2.585675,6.168775,0.9192551331418249,395.174425,1.097569998166025,0.20229999999999998,0.027005835453275,0.3931815627135,0.050574999999999995,0.12792499999999998,40.20171799526918,4.812175,1.4449395525\n",
            "22.60025,1.9922499999999999,0.127575,17.671124999999996,85.32124999999999,263.82417499999997,7.8968,8.555274999999998,14.333575,1.332361290852225,742.184025,1.4648923442028248,0.9638999999999999,0.12867486304207498,0.5288566901055001,0.24097499999999997,0.6095249999999999,54.137597506870776,7.869775,2.1788296325\n",
            "12.2745,1.2905,0.03735,7.29525,49.7325,91.38415,3.7264,3.21195,7.02535,0.96259439522305,431.57945,1.1361060478618499,0.2822,0.03767200575835,0.40741533723900003,0.07055,0.17845,41.66374106903095,5.13295,1.521932485\n",
            "16.497500000000002,1.5775000000000001,0.07425000000000001,11.53875,64.2875,161.90825,5.432,5.39725,10.01425,1.11382075652775,558.6097500000001,1.2705722638217498,0.561,0.07489013192925001,0.45708212494500006,0.14025,0.35475,46.76526839024225,6.25225,1.790588675\n",
            "30.42825,2.52425,0.195975,25.537125,112.30125,394.55177499999996,11.0584,12.606074999999999,19.873975,1.612683326441425,977.6548250000001,1.714146793299225,1.4807,0.197664560334475,0.6209219551215001,0.370175,0.936325,63.594087175457574,9.944575,2.6768264725\n",
            "25.0465,2.1585,0.14895,20.129250000000003,93.7525,304.67655,8.8848,9.82115,16.064950000000003,1.4199619269738502,815.7686500000001,1.54278435954545,1.1254,0.15023414344595,0.5576270854230001,0.28135,0.71165,57.09275052830415,8.51815,2.334453645\n",
            "14.386,1.434,0.0558,9.417,57.010000000000005,126.6462,4.5792,4.3046,8.5198,1.0382075758754,495.0946,1.2033391558418,0.4216,0.0562810688438,0.432248731092,0.1054,0.2666,44.2145047296366,5.6926000000000005,1.65626058\n",
            "27.776,2.3440000000000003,0.1728,22.872,103.16,350.25919999999996,9.987200000000001,11.2336,17.9968,1.5177057946464,897.8736,1.6296954503488,1.3056,0.1742897615808,0.589728789672,0.3264,0.8256,60.3900791627456,9.2416,2.50809728\n",
            "10.65225,1.18025,0.023174999999999998,5.665125,44.14125,64.292575,3.0712,2.3724749999999997,5.877175,0.904501341795025,382.781225,1.084451342950425,0.17509999999999998,0.023374798753675,0.38833602244950005,0.043774999999999994,0.11072499999999999,39.704008012711974,4.702975,1.4187291925\n",
            "17.19275,1.62475,0.080325,12.237375,66.68375,173.518925,5.7128,5.757025,10.506325,1.138717779425475,579.523275,1.2927099944980749,0.6069,0.08101750635982499,0.46525897414050005,0.151725,0.383775,47.605153985807526,6.436525,1.8348186575\n",
            "22.3685,1.9765000000000001,0.12555000000000002,17.438250000000004,84.52250000000001,259.95395,7.8032,8.43535,14.169550000000001,1.32406228321965,735.2128500000001,1.45751310064405,0.9486000000000001,0.12663240489855002,0.5261310737070001,0.23715000000000003,0.59985,53.85763564168235,7.808350000000001,2.164086305\n",
            "24.86625,2.14625,0.147375,19.948125,93.13125,301.666375,8.812000000000001,9.727875,15.937375000000001,1.4135071432596251,810.3466250000001,1.5370449478886248,1.1135,0.14864556488987501,0.5555071615575,0.278375,0.704125,56.87500241093537,8.470375,2.3229866125000003\n",
            "8.43775,1.02975,0.0038250000000000003,3.439875,36.50875,27.310425000000002,2.1768,1.226525,4.309825,0.825199713305975,316.167775,1.013938571166575,0.028900000000000002,0.0038579764933250006,0.3622912435305,0.0072250000000000005,0.018275,37.028816856467024,4.116025,1.2778485075\n",
            "21.46725,1.91525,0.117675,16.532625000000003,81.41625,244.903075,7.4392000000000005,7.9689749999999995,13.531675000000002,1.291788364648525,708.102725,1.428816042359925,0.8891,0.11868951211817501,0.5155314543795,0.222275,0.562225,52.768895054838474,7.569475000000001,2.1067511425\n",
            "30.866,2.5540000000000003,0.1998,25.977,113.81,401.8622,11.2352,12.8326,20.1838,1.6283592297474,990.8226000000001,1.7280853644657999,1.5096,0.2015225368278,0.626070341652,0.3774,0.9546,64.1229040319246,10.0606,2.70467498\n",
            "15.776499999999999,1.5285,0.06795,10.81425,61.802499999999995,149.86755,5.1408000000000005,5.02415,9.50395,1.0880016216708501,536.92165,1.24761461719445,0.5134,0.06853581770495,0.44860242948300005,0.12835,0.32465,45.89427592076715,6.06115,1.7447205449999998\n",
            "11.296,1.224,0.028800000000000003,6.312,46.36,75.0432,3.3312,2.7056,6.332800000000001,0.9275541407744,402.1456,1.1049492417248,0.2176,0.0290482935968,0.395907179112,0.0544,0.1376,40.4816798604576,4.8736,1.45968288\n",
            "23.295499999999997,2.0395,0.13365,18.36975,87.7175,275.43485,8.1776,8.915049999999999,14.82565,1.35725831374995,763.09755,1.4870300748791498,1.0098,0.13480223747265,0.5370335393010001,0.25245,0.63855,54.97748310243605,8.05405,2.223059615\n",
            "22.6775,1.9975,0.12825,17.74875,85.5875,265.11424999999997,7.928,8.59525,14.38825,1.33512762672975,744.50775,1.46735209205575,0.9689999999999999,0.12935568242325,0.529765228905,0.24224999999999997,0.6127499999999999,54.23091812860025,7.89025,2.183744075\n",
            "20.54025,1.85225,0.109575,15.601125,78.22125,229.42217499999998,7.0648,7.489274999999999,12.875575000000001,1.258592334118225,680.218025,1.399299068124825,0.8279,0.110519679544075,0.5046289887855,0.206975,0.523525,51.64904759408478,7.3237749999999995,2.0477778325\n",
            "32.07625,2.63625,0.210375,27.193125000000002,117.98125,422.073375,11.724,13.458875,21.040375,1.671698491828625,1027.227625,1.7666214141616248,1.5895000000000001,0.21218870713287502,0.6403041161775,0.39737500000000003,1.005125,65.58492710568638,10.381375,2.7816679124999997\n",
            "29.50125,2.4612499999999997,0.187875,24.605625,109.10625,379.07087499999994,10.684,12.126375,19.217875,1.5794872959111252,949.770125,1.6846298190641247,1.4195,0.189494727760375,0.6100194895275,0.354875,0.8976249999999999,62.47423971470387,9.698875000000001,2.6178531625\n",
            "29.655749999999998,2.47175,0.189225,24.760875,109.63875,381.65102499999995,10.7464,12.206325,19.327225,1.5850199676661751,954.417575,1.689549314769975,1.4297,0.190856366522725,0.6118365671265,0.357425,0.904075,62.66088095816282,9.739825,2.6276820474999996\n",
            "29.5785,2.4665,0.18855,24.683249999999997,109.3725,380.36094999999995,10.7152,12.16635,19.272550000000003,1.58225363178865,952.09385,1.6870895669170498,1.4245999999999999,0.19017554714155,0.610928028327,0.35614999999999997,0.9008499999999999,62.567560336433345,9.719349999999999,2.622767605\n",
            "30.170749999999998,2.5067500000000003,0.193725,25.278375,111.41375,390.25152499999996,10.9544,12.472824999999998,19.691725,1.603462206849675,969.909075,1.7059476337894748,1.4637,0.19539516239722501,0.6178934924565,0.365925,0.9255749999999999,63.28301843635933,9.876325000000001,2.6604449975\n",
            "31.896,2.624,0.2088,27.012,117.36,419.0632,11.651200000000001,13.3656,20.9128,1.6652437081144003,1021.8056,1.7608820025048,1.5776000000000001,0.21060012857680002,0.6381841923120001,0.39440000000000003,0.9976,65.3671789883176,10.3336,2.77020088\n",
            "24.50575,2.12175,0.14422500000000002,19.585875,91.88875,295.646025,8.6664,9.541325,15.682225,1.400597575831175,799.502575,1.5255661245749748,1.0897,0.14546840777772502,0.5512673138265001,0.272425,0.689075,56.439506176197824,8.374825000000001,2.3000525475\n",
            "15.416,1.504,0.0648,10.451999999999998,60.56,143.8472,4.9952000000000005,4.8376,9.2488,1.0750920542424,526.0776,1.2361357938808,0.4895999999999999,0.0653586605928,0.44436258175200005,0.12239999999999998,0.3096,45.4587796860296,5.9656,1.72178648\n",
            "27.8275,2.3475,0.17325000000000002,22.923750000000002,103.3375,351.11924999999997,10.008000000000001,11.26025,18.033250000000002,1.5195500185647501,899.4227500000001,1.6313352822507499,1.309,0.17474364116825,0.5903344822050001,0.32725,0.82775,60.45229291056525,9.25525,2.511373575\n",
            "32.5655,2.6695,0.21465,27.684749999999998,119.66749999999999,430.24384999999995,11.9216,13.71205,21.38665,1.6892186190529501,1041.9445500000002,1.7821998172301496,1.6218,0.21650056321365,0.646058195241,0.40545,1.02555,66.17595770997305,10.511050000000001,2.8127927149999996\n",
            "17.8365,1.6684999999999999,0.08595,12.88425,68.9025,184.26954999999998,5.9728,6.0901499999999995,10.961950000000002,1.16177057840485,598.88765,1.31320789327245,0.6494,0.08669100120295001,0.47283013080300007,0.16235,0.41065,48.38282583355315,6.607150000000001,1.8757723450000001\n",
            "26.66875,2.26875,0.163125,21.759375,99.34375,331.768125,9.54,10.660625,17.213124999999998,1.478054980401875,864.566875,1.5944390644568749,1.2325,0.164531350450625,0.5767064002125001,0.308125,0.7793749999999999,59.05248358462312,8.948125000000001,2.4376569375\n",
            "9.77675,1.12075,0.015525000000000002,4.785375,41.12375,49.671725,2.7176,1.919425,5.257525,0.8731495351830749,356.445675,1.056574200617275,0.1173,0.015658845767025,0.37803924938850003,0.029325,0.074175,38.646374299777925,4.470925,1.3630321775\n",
            "21.415750000000003,1.91175,0.11722500000000001,16.480875,81.23875000000001,244.043025,7.4184,7.942325,13.495225000000001,1.289944140730175,706.553575,1.4271762104579748,0.8857,0.11823563253072501,0.5149257618465001,0.221425,0.560075,52.706681307018826,7.5558250000000005,2.1034748475\n",
            "31.2265,2.5785,0.20295000000000002,26.33925,115.05250000000001,407.88255,11.3808,13.01915,20.438950000000002,1.6412687971758502,1001.66665,1.7395641877794499,1.5334,0.20469969393995002,0.6303101893830001,0.38335,0.96965,64.55840026666215,10.15615,2.727609045\n",
            "30.6085,2.5365,0.19755,25.71825,112.9225,397.56194999999997,11.1312,12.699349999999999,20.00155,1.6191381101556501,983.07685,1.7198862049560497,1.4926,0.19925313889055002,0.623041878987,0.37315,0.94385,63.811835292826345,9.99235,2.688293505\n",
            "32.59125,2.6712499999999997,0.21487499999999998,27.710625,119.75625,430.67387499999995,11.932,13.725375,21.404875,1.690140731012125,1042.719125,1.7830197331811248,1.6235,0.216727503007375,0.6463610415075001,0.405875,1.026625,66.20706458388287,10.517875,2.8144308625\n",
            "17.2185,1.6265,0.08055,12.26325,66.7725,173.94895,5.7232,5.77035,10.524550000000001,1.13963989138465,580.2978499999999,1.2935299104490499,0.6085999999999999,0.08124444615355,0.465561820407,0.15214999999999998,0.38484999999999997,47.636260859717346,6.443350000000001,1.836456805\n",
            "11.16725,1.21525,0.027675,6.182625,45.91625,72.893075,3.2792000000000003,2.638975,6.241675000000001,0.922943580978525,398.27272500000004,1.100849661969925,0.20909999999999998,0.027913594628175,0.3943929477795,0.052274999999999995,0.13222499999999998,40.32614549090847,4.839475,1.4514921425\n",
            "16.78075,1.5967500000000001,0.076725,11.823375,65.26375,166.63852500000002,5.5464,5.543825,10.214725000000001,1.1239639880786751,567.130075,1.279591339282475,0.5797,0.07738646966022501,0.4604134338765,0.144925,0.36657500000000004,47.10744400325032,6.327325,1.8086082975\n",
            "15.08125,1.4812500000000002,0.061875000000000006,10.115625000000001,59.40625,138.256875,4.86,4.664375,9.011875,1.063104598773125,516.0081250000001,1.225476886518125,0.4675,0.06240844327437501,0.44042558028750006,0.116875,0.295625,45.05439032520188,5.876875,1.7004905625\n",
            "19.04675,1.75075,0.096525,14.100375,73.07374999999999,204.48072499999998,6.4616,6.716424999999999,11.818525000000001,1.2051098404860752,635.292675,1.351743942968275,0.7293,0.097357171508025,0.4870639053285001,0.182325,0.46117499999999995,49.844848907314926,6.927925,1.9527652775\n",
            "13.253,1.357,0.045899999999999996,8.2785,53.105000000000004,107.72509999999998,4.1216,3.7182999999999997,7.7179,0.9976346496717,461.01329999999996,1.1672628539989,0.34679999999999994,0.0462957179199,0.41892349536600004,0.08669999999999999,0.21929999999999997,42.8458022776043,5.3923,1.5841820899999999\n",
            "29.218,2.442,0.18539999999999998,24.320999999999998,108.13,374.34059999999994,10.5696,11.9798,19.017400000000002,1.5693440643602001,941.2498,1.6756107436033998,1.4007999999999998,0.1869983900294,0.606688180596,0.35019999999999996,0.8857999999999999,62.132064101695796,9.6238,2.5998335399999997\n",
            "33.62125,2.74125,0.223875,28.745625,123.30625,447.874875,12.348,14.258375,22.133875,1.7270252093791252,1073.702125,1.8158163712201247,1.6915,0.225805094756375,0.6584748921675001,0.422875,1.069625,67.45133954027587,10.790875,2.8799567625\n",
            "10.03425,1.13825,0.017775,5.044125,42.011250000000004,53.971975,2.8216,2.052675,5.439775,0.882370654774825,364.191425,1.064773360127025,0.1343,0.017928243704275,0.38106771205350004,0.033575,0.084925,38.95744303887618,4.539175,1.3794136525\n",
            "26.643,2.267,0.1629,21.7335,99.255,331.3381,9.5296,10.6473,17.1949,1.4771328684427,863.7923000000001,1.5936191485059,1.2308,0.1643044106569,0.5764035539460001,0.3077,0.7783,59.0213767107133,8.9413,2.43601879\n",
            "22.42,1.98,0.12600000000000003,17.490000000000002,84.7,260.814,7.824000000000001,8.462,14.206000000000001,1.3259065071380003,736.7620000000001,1.459152932546,0.9520000000000001,0.127086284486,0.5267367662400001,0.23800000000000002,0.602,53.919849389502005,7.822000000000001,2.1673626\n",
            "31.81875,2.6187500000000004,0.208125,26.934375000000003,117.09375,417.773125,11.620000000000001,13.325625,20.858125,1.662477372236875,1019.4818750000001,1.7584222546518748,1.5725,0.20991930919562501,0.6372756535125,0.393125,0.994375,65.27385836658813,10.313125,2.7652864375\n",
            "32.53975,2.66775,0.214425,27.658875,119.57875,429.81382499999995,11.9112,13.698725,21.368425000000002,1.6882965070937752,1041.169975,1.7813799012791747,1.6200999999999999,0.21627362341992498,0.6457553489745,0.40502499999999997,1.0244749999999998,66.14485083606323,10.504225,2.8111545675\n",
            "25.99925,2.22325,0.157275,21.086624999999998,97.03625,320.587475,9.2696,10.314174999999999,16.739275,1.4540800694633251,844.427925,1.5731212497315248,1.1883,0.158630915813775,0.5688323972835001,0.297075,0.7514249999999999,58.243704862967675,8.770675,2.3950651025\n",
            "18.0425,1.6825,0.08775000000000001,13.09125,69.61250000000001,187.70974999999999,6.056,6.19675,11.107750000000001,1.1691474740782501,605.0842500000001,1.31976722088025,0.663,0.08850651955275,0.47525290093500006,0.16575,0.41925,48.63168082483175,6.66175,1.8888775249999998\n",
            "24.068,2.092,0.1404,19.146,90.38,288.3356,8.4896,9.3148,15.3724,1.3849216725252,786.3348000000001,1.5116275534083998,1.0608,0.1416104312844,0.5461189272960001,0.2652,0.6708,55.9106893197308,8.2588,2.27220404\n",
            "10.44625,1.16625,0.021375,5.458125,43.43125,60.852374999999995,2.988,2.265875,5.731375,0.897124446121625,376.584625,1.077892015342625,0.1615,0.021559280403875,0.38591325231750007,0.040375,0.102125,39.455153021433375,4.648375,1.4056240125\n",
            "12.50625,1.30625,0.039375,7.528124999999999,50.53125,95.254375,3.82,3.3318749999999997,7.189375,0.970893402855625,438.55062499999997,1.143485291420625,0.2975,0.039714463901875,0.4101409536375,0.074375,0.188125,41.943702934219374,5.194375,1.5366758125\n",
            "17.682000000000002,1.658,0.08460000000000001,12.729,68.37,181.68939999999998,5.9104,6.010199999999999,10.8526,1.1562379066498,594.2402,1.3082883975666,0.6392,0.0853293624406,0.47101305320400005,0.1598,0.4042,48.1961845900942,6.5662,1.86594346\n",
            "21.750500000000002,1.9345,0.12015,16.81725,82.39250000000001,249.63335,7.5536,8.115549999999999,13.73215,1.30193159619945,716.62305,1.4378351178206499,0.9078,0.12118584984915001,0.5188627633110001,0.22695,0.5740500000000001,53.11107066784655,7.644550000000001,2.124770765\n",
            "21.00375,1.88375,0.113625,16.066875,79.81875,237.162625,7.252000000000001,7.729125,13.203625,1.275190349383375,694.160375,1.4140575552423749,0.8584999999999999,0.114604595831125,0.5100802215825,0.21462499999999998,0.542875,52.20897132446162,7.446625,2.0772644875\n",
            "30.99475,2.5627500000000003,0.20092500000000002,26.106375,114.25375,404.012325,11.2872,12.899225,20.274925000000003,1.6329697895432753,994.6954750000001,1.7321849442206747,1.5181,0.202657235796425,0.6275845729845,0.379525,0.959975,64.27843840147372,10.094725,2.7128657174999997\n",
            "10.781,1.189,0.0243,5.794499999999999,44.585,66.4427,3.1231999999999998,2.4391,5.9683,0.9091119015908999,386.65409999999997,1.0885509227053,0.18359999999999999,0.0245094977223,0.38985025378200006,0.045899999999999996,0.1161,39.8595423822611,4.7371,1.42691993\n",
            "18.73775,1.7297500000000001,0.09382499999999999,13.789875,72.00874999999999,199.32042499999997,6.3368,6.556525,11.599825,1.194044496975975,625.997775,1.3419049515565749,0.7089,0.094633893983325,0.48342975013050005,0.177225,0.448275,49.471566420397025,6.846025,1.9331075075\n",
            "14.10275,1.41475,0.053325,9.132375,56.03375,121.91592499999999,4.4648,4.158025,8.319325,1.028064344324475,486.574275,1.194320080381075,0.4029,0.053784731112825,0.42891742216050005,0.100725,0.254775,43.87232911662852,5.617525,1.6382409574999999\n",
            "29.86175,2.48575,0.191025,24.967875,110.34875,385.09122499999995,10.8296,12.312925,19.473025,1.592396863339575,960.614175,1.6961086423777747,1.4433,0.192671884872525,0.6142593372585,0.360825,0.9126749999999999,62.909735949441426,9.794425,2.6407872274999997\n",
            "14.283,1.427,0.0549,9.3135,56.655,124.92609999999999,4.537599999999999,4.2513,8.4469,1.0345191280387,491.9963,1.2000594920379,0.4148,0.0553733096689,0.431037346026,0.1037,0.2623,44.0900772339973,5.6653,1.64970799\n",
            "25.175250000000002,2.16725,0.15007500000000001,20.258625000000002,94.19625,306.826675,8.936800000000002,9.887775,16.156075,1.4245724867697251,819.6415250000001,1.5468839393003249,1.1339000000000001,0.15136884241457502,0.5591413167555,0.28347500000000003,0.717025,57.248284897853274,8.552275000000002,2.3426443825\n",
            "9.9055,1.1295,0.016649999999999998,4.91475,41.5675,51.82185,2.7696,1.9860499999999999,5.34865,0.8777600949789499,360.31855,1.06067378037215,0.1258,0.01679354473565,0.37955348072100004,0.03145,0.07955,38.80190866932705,4.50505,1.371222915\n",
            "13.17575,1.35175,0.045225,8.200875,52.838750000000005,106.435025,4.090400000000001,3.678325,7.663225000000001,0.994868313794175,458.689575,1.164803106145975,0.3417,0.045614898538725,0.41801495656650006,0.085425,0.21607500000000002,42.752481655874824,5.371825,1.5792676475\n",
            "30.6085,2.5365,0.19755,25.71825,112.9225,397.56194999999997,11.1312,12.699349999999999,20.00155,1.6191381101556501,983.07685,1.7198862049560497,1.4926,0.19925313889055002,0.623041878987,0.37315,0.94385,63.811835292826345,9.99235,2.688293505\n",
            "27.69875,2.33875,0.172125,22.794375,102.89375,348.96912499999996,9.956,11.193624999999999,17.942125,1.5149394587688751,895.549875,1.627235702495875,1.3005,0.173608942199625,0.5888202508725,0.325125,0.822375,60.296758541016125,9.221125,2.5031828375\n",
            "28.574250000000003,2.39825,0.17977500000000002,23.674125,105.91125000000001,363.589975,10.309600000000001,11.646675,18.561775000000004,1.5462912653808252,921.885425,1.6551128448290249,1.3583,0.181324895186275,0.5991170239335001,0.339575,0.858925,61.354392253950174,9.453175000000002,2.5588798525\n",
            "24.76325,2.13925,0.14647500000000002,19.844625,92.77625,299.946275,8.7704,9.674574999999999,15.864475,1.409818695422925,807.248325,1.533765284084725,1.1067,0.147737805714975,0.5542957764915001,0.276675,0.699825,56.75057491529607,8.443075,2.3164340225\n",
            "28.88325,2.41925,0.18247500000000003,23.984625,106.97625000000001,368.750275,10.4344,11.806575,18.780475000000003,1.5573566088909252,931.180325,1.664951836240725,1.3787,0.184048172710975,0.6027511791315001,0.344675,0.8718250000000001,61.727674740868075,9.535075,2.5785376225\n",
            "25.690250000000002,2.2022500000000003,0.15457500000000002,20.776125,95.97125,315.42717500000003,9.1448,10.154275,16.520575,1.443014725953225,835.1330250000001,1.563282258319825,1.1679000000000002,0.15590763828907503,0.5651982420855001,0.29197500000000004,0.738525,57.870422376049774,8.688775,2.3754073325\n",
            "21.158250000000002,1.89425,0.11497500000000001,16.222125,80.35125,239.742775,7.3144,7.809075,13.312975000000002,1.280723021138425,698.8078250000001,1.418977050948225,0.8687,0.115966234593475,0.5118972991815001,0.217175,0.549325,52.39561256792057,7.487575,2.0870933725\n",
            "27.75025,2.34225,0.172575,22.846125,103.07125,349.82917499999996,9.9768,11.220274999999999,17.978575,1.5167836826872252,897.0990250000001,1.628875534397825,1.3039,0.174062821787075,0.5894259434055,0.325975,0.824525,60.35897228883577,9.234774999999999,2.5064591325\n",
            "8.4635,1.0315,0.00405,3.46575,36.5975,27.74045,2.1872,1.23985,4.32805,0.82612182526515,316.94235,1.01475848711755,0.030599999999999995,0.00408491628705,0.36259408979700003,0.007649999999999999,0.01935,37.05992373037685,4.12285,1.279486655\n",
            "20.566,1.854,0.1098,15.626999999999999,78.31,229.85219999999998,7.0752,7.502599999999999,12.8938,1.2595144460774002,680.9926,1.4001189840758,0.8296,0.1107466193378,0.504931835052,0.2074,0.5246,51.6801544679946,7.3306000000000004,2.04941598\n",
            "9.62225,1.11025,0.014175,4.630125,40.59125,47.091575,2.6552,1.839475,5.148175,0.867616863428025,351.798225,1.0516547049114249,0.1071,0.014297207004675001,0.3762221717895,0.026775,0.067725,38.459733056318974,4.429975,1.3532032925\n",
            "26.5915,2.2635,0.16245,21.68175,99.0775,330.47805,9.5088,10.62065,17.158450000000002,1.47528864452435,862.24315,1.59197931660395,1.2273999999999998,0.16385053106945,0.575797861413,0.30684999999999996,0.7761499999999999,58.95916296289364,8.92765,2.432742495\n",
            "27.90475,2.3527500000000003,0.173925,23.001375,103.60375,352.40932499999997,10.039200000000001,11.300225,18.087925000000002,1.522316354442275,901.746475,1.6337950301036748,1.3141,0.175424460549425,0.5912430210045001,0.328525,0.830975,60.54561353229472,9.275725000000001,2.5162880175\n",
            "15.49325,1.50925,0.06547499999999999,10.529625,60.82625,145.137275,5.0264,4.877574999999999,9.303474999999999,1.077858390119925,528.401325,1.2385955417337249,0.4947,0.066039479973975,0.44527112055150003,0.123675,0.31282499999999996,45.552100307759076,5.986075,1.7267009225\n",
            "17.5275,1.6475,0.08325,12.57375,67.8375,179.10925,5.848,5.93025,10.74325,1.15070523489475,589.59275,1.30336890186075,0.629,0.08396772367825,0.46919597560500004,0.15725,0.39775,48.00954334663525,6.52525,1.8561145749999999\n",
            "20.514499999999998,1.8505,0.10935,15.57525,78.1325,228.99214999999998,7.0544,7.475949999999999,12.85735,1.25767022215905,679.44345,1.39847915217385,0.8261999999999999,0.11029273975035,0.504326142519,0.20654999999999998,0.52245,51.61794072017495,7.31695,2.046139685\n",
            "29.140749999999997,2.43675,0.184725,24.243375,107.86375,373.05052499999994,10.5384,11.939824999999999,18.962725,1.5665777284826752,938.926075,1.6731509957504747,1.3957,0.186317570648225,0.6057796417965,0.348925,0.8825749999999999,62.03874347996632,9.603325,2.5949190975\n",
            "25.53575,2.19175,0.15322500000000003,20.620875,95.43875,312.84702500000003,9.0824,10.074325,16.411225,1.437482054198175,830.485575,1.5583627626139749,1.1577,0.15454599952672501,0.5633811644865001,0.289425,0.732075,57.68378113259082,8.647825000000001,2.3655784475\n",
            "29.939,2.4909999999999997,0.1917,25.0455,110.615,386.38129999999995,10.8608,12.3529,19.527700000000003,1.5951631992171,962.9379,1.6985683902306998,1.4484,0.1933527042537,0.615167876058,0.3621,0.9158999999999999,63.0030565711709,9.8149,2.64570167\n",
            "24.892,2.148,0.1476,19.974,93.22,302.0964,8.822400000000002,9.7412,15.955600000000002,1.4144292552188,811.1212,1.5378648638395997,1.1152,0.1488725046836,0.555810007824,0.2788,0.7052,56.9061092848452,8.4772,2.32462476\n",
            "27.4155,2.3195,0.16965,22.50975,101.9175,344.23884999999996,9.8416,11.047049999999999,17.74165,1.50479622721795,887.0295500000001,1.61821662703515,1.2818,0.17111260446865,0.5854889419410001,0.32045,0.81055,59.95458292800805,9.146049999999999,2.485163215\n",
            "25.355500000000003,2.1795,0.15165,20.43975,94.8175,309.83685,9.0096,9.98105,16.28365,1.4310272704839502,825.0635500000001,1.5526233509571499,1.1458000000000002,0.15295742097065002,0.561261240621,0.28645000000000004,0.72455,57.46603301522205,8.60005,2.354111415\n",
            "10.781,1.189,0.0243,5.794499999999999,44.585,66.4427,3.1231999999999998,2.4391,5.9683,0.9091119015908999,386.65409999999997,1.0885509227053,0.18359999999999999,0.0245094977223,0.38985025378200006,0.045899999999999996,0.1161,39.8595423822611,4.7371,1.42691993\n",
            "24.0165,2.0885,0.13995,19.09425,90.2025,287.47555,8.4688,9.28815,15.33595,1.38307744860685,784.78565,1.5099877215064499,1.0574,0.14115655169695,0.5455132347630001,0.26435,0.66865,55.84847557191115,8.245149999999999,2.268927745\n",
            "9.62225,1.11025,0.014175,4.630125,40.59125,47.091575,2.6552,1.839475,5.148175,0.867616863428025,351.798225,1.0516547049114249,0.1071,0.014297207004675001,0.3762221717895,0.026775,0.067725,38.459733056318974,4.429975,1.3532032925\n",
            "28.651500000000002,2.4035,0.18045000000000003,23.75175,106.17750000000001,364.88005,10.340800000000002,11.68665,18.61645,1.5490576012583501,924.20915,1.6575725926819498,1.3634,0.18200571456745002,0.600025562733,0.34085,0.86215,61.44771287567965,9.47365,2.563794295\n",
            "9.3905,1.0945,0.01215,4.39725,39.7925,43.22135,2.5616,1.71955,4.98415,0.85931785579545,344.82705,1.04427546135265,0.09179999999999999,0.01225474886115,0.373496555391,0.022949999999999998,0.05805,38.17977119113055,4.36855,1.338459965\n",
            "11.708,1.252,0.0324,6.725999999999999,47.78,81.9236,3.4976000000000003,2.9188,6.6244,0.9423079321212,414.5388,1.1180678969403999,0.24479999999999996,0.0326793302964,0.40075271937600004,0.06119999999999999,0.1548,40.9793898430148,4.9828,1.48589324\n",
            "32.951750000000004,2.69575,0.218025,28.072875,120.99875,436.69422499999996,12.0776,13.911924999999998,21.660025,1.703050298440575,1053.563175,1.7944985564947746,1.6473,0.219904660119525,0.6506008892385,0.411825,1.041675,66.64256081862042,10.613425,2.8373649275\n",
            "21.9565,1.9485000000000001,0.12195000000000002,17.024250000000002,83.1025,253.07355,7.636800000000001,8.22215,13.877950000000002,1.3093084918728501,722.8196500000001,1.4443944454284499,0.9214,0.12300136819895001,0.521285533443,0.23035,0.58265,53.35992565912515,7.69915,2.137875945\n",
            "33.05475,2.70275,0.218925,28.176375,121.35374999999999,438.41432499999996,12.1192,13.965224999999998,21.732925,1.7067387462772752,1056.6614749999999,1.797778220298675,1.6541,0.220812419294425,0.6518122743045001,0.413525,1.0459749999999999,66.76698831425972,10.640725,2.8439175174999995\n",
            "24.0165,2.0885,0.13995,19.09425,90.2025,287.47555,8.4688,9.28815,15.33595,1.38307744860685,784.78565,1.5099877215064499,1.0574,0.14115655169695,0.5455132347630001,0.26435,0.66865,55.84847557191115,8.245149999999999,2.268927745\n",
            "33.183499999999995,2.7115,0.22005,28.30575,121.7975,440.56444999999997,12.1712,14.031849999999999,21.82405,1.7113493060731502,1060.53435,1.8018778000535498,1.6625999999999999,0.22194711826305,0.6533265056370001,0.41564999999999996,1.05135,66.92252268380885,10.67485,2.852108255\n",
            "19.30425,1.76825,0.098775,14.359125,73.96125,208.78097499999998,6.5656,6.8496749999999995,12.000775,1.2143309600778252,643.038425,1.3599431024780249,0.7463,0.09962656944527501,0.49009236799350003,0.186575,0.471925,50.15591764641317,6.996175,1.9691467525\n",
            "23.11525,2.02725,0.132075,18.188625,87.09625,272.424675,8.104800000000001,8.821774999999999,14.698075,1.350803530035725,757.675525,1.4812906632223248,0.9978999999999999,0.133213658916575,0.5349136154355001,0.24947499999999997,0.631025,54.75973498506727,8.006274999999999,2.2115925825\n",
            "33.235,2.715,0.2205,28.357499999999998,121.975,441.42449999999997,12.192,14.058499999999999,21.860500000000002,1.7131935299915,1062.0835000000002,1.8035176319554997,1.666,0.2224009978505,0.65393219817,0.4165,1.0534999999999999,66.9847364316285,10.688500000000001,2.85538455\n",
            "23.63025,2.0622499999999997,0.136575,18.706125,88.87125,281.025175,8.3128,9.088275,15.062575,1.369245769219225,773.167025,1.497688982241825,1.0319,0.137752454791075,0.5409705407655001,0.257975,0.6525249999999999,55.381872463263775,8.142775,2.2443555324999998\n",
            "11.37325,1.22925,0.029475,6.3896250000000006,46.62625,76.333275,3.3624,2.7455749999999997,6.387475,0.930320476651925,404.469325,1.107408989577725,0.2227,0.029729112977975,0.39681571791150005,0.055675,0.140825,40.57500048218707,4.894075,1.4645973225\n",
            "29.449749999999998,2.45775,0.187425,24.553874999999998,108.92875,378.21082499999994,10.6632,12.099725,19.181425,1.577643071992775,948.220975,1.6829899871621747,1.4161,0.189040848172925,0.6094137969945,0.354025,0.8954749999999999,62.41202596688422,9.685224999999999,2.6145768675\n",
            "13.768,1.392,0.0504,8.796,54.879999999999995,116.3256,4.3296,3.9848,8.0824,1.0160768888552,476.50480000000005,1.1836611730184,0.38079999999999997,0.0508345137944,0.42498042069600006,0.09519999999999999,0.2408,43.4679397558008,5.5288,1.61694504\n",
            "22.342750000000002,1.9747500000000002,0.12532500000000002,17.412375,84.43375,259.523925,7.792800000000001,8.422025000000001,14.151325000000002,1.3231401712604751,734.4382750000001,1.456693184693075,0.9469000000000001,0.126405465104825,0.5258282274405001,0.23672500000000002,0.5987750000000001,53.82652876777253,7.801525,2.1624481575\n",
            "27.982,2.358,0.1746,23.079,103.87,353.69939999999997,10.070400000000001,11.3402,18.1426,1.5250826903198003,904.0702,1.6362547779566,1.3192,0.17610527993060002,0.592151559804,0.3298,0.8341999999999999,60.6389341540242,9.2962,2.52120246\n",
            "32.02475,2.63275,0.20992500000000003,27.141375,117.80375000000001,421.213325,11.7032,13.432225,21.003925000000002,1.6698542679102752,1025.6784750000002,1.7649815822596748,1.5861,0.21173482754542503,0.6396984236445,0.396525,1.002975,65.52271335786672,10.367725,2.7783916174999996\n",
            "23.52725,2.05525,0.135675,18.602625,88.51625,279.305075,8.2712,9.034975,14.989675,1.365557321382525,770.0687250000001,1.4944093184379248,1.0251,0.136844695616175,0.5397591556995001,0.256275,0.6482249999999999,55.25744496762447,8.115475,2.2378029425\n",
            "22.703249999999997,1.99925,0.128475,17.774625,85.67625,265.54427499999997,7.9384,8.608574999999998,14.406475,1.3360497386889252,745.282325,1.4681720080067249,0.9706999999999999,0.129582622216975,0.5300680751715,0.24267499999999997,0.613825,54.26202500251007,7.897074999999999,2.1853822225\n",
            "11.27025,1.22225,0.028575,6.286125,46.27125,74.613175,3.3208,2.692275,6.314575,0.926632028815225,401.37102500000003,1.104129325773825,0.2159,0.028821353803075,0.39560433284550006,0.053975,0.136525,40.450572986547776,4.8667750000000005,1.4580447324999999\n",
            "21.00375,1.88375,0.113625,16.066875,79.81875,237.162625,7.252000000000001,7.729125,13.203625,1.275190349383375,694.160375,1.4140575552423749,0.8584999999999999,0.114604595831125,0.5100802215825,0.21462499999999998,0.542875,52.20897132446162,7.446625,2.0772644875\n",
            "30.6085,2.5365,0.19755,25.71825,112.9225,397.56194999999997,11.1312,12.699349999999999,20.00155,1.6191381101556501,983.07685,1.7198862049560497,1.4926,0.19925313889055002,0.623041878987,0.37315,0.94385,63.811835292826345,9.99235,2.688293505\n",
            "30.5055,2.5295,0.19665,25.61475,112.5675,395.84184999999997,11.0896,12.646049999999999,19.92865,1.6154496623189503,979.97855,1.7166065411521498,1.4858,0.19834537971565,0.621830493921,0.37145,0.93955,63.68740779718705,9.96505,2.681740915\n",
            "30.145,2.505,0.1935,25.2525,111.325,389.82149999999996,10.944,12.459499999999998,19.6735,1.6025400948905002,969.1345,1.7051277178384998,1.462,0.1951682226035,0.61759064619,0.3655,0.9245,63.25191156244949,9.8695,2.65880685\n",
            "19.6905,1.7945,0.10215,14.747250000000001,75.2925,215.23135,6.7216000000000005,7.04955,12.27415,1.2281626394654501,654.65705,1.3722418417426498,0.7718,0.10303066635115,0.49463506199100005,0.19295,0.48805,50.62252075506055,7.09855,1.993718965\n",
            "30.01625,2.49625,0.192375,25.123124999999998,110.88125,387.67137499999995,10.892,12.392874999999998,19.582375,1.5979295350946252,965.261625,1.701028138083625,1.4535,0.194033523634875,0.6160764148575,0.363375,0.919125,63.09637719290038,9.835374999999999,2.6506161125\n",
            "19.81925,1.80325,0.103275,14.876625,75.73625,217.381475,6.7736,7.116175,12.365275,1.2327731992613251,658.529925,1.376341421497525,0.7803,0.10416536531977501,0.49614929332350005,0.195075,0.493425,50.77805512460967,7.132675000000001,2.0019097025\n",
            "20.54025,1.85225,0.109575,15.601125,78.22125,229.42217499999998,7.0648,7.489274999999999,12.875575000000001,1.258592334118225,680.218025,1.399299068124825,0.8279,0.110519679544075,0.5046289887855,0.206975,0.523525,51.64904759408478,7.3237749999999995,2.0477778325\n",
            "10.4205,1.1645,0.021150000000000002,5.43225,43.3425,60.422349999999994,2.9776,2.25255,5.713150000000001,0.89620233416245,375.81005,1.07707209939165,0.1598,0.02133234061015,0.38561040605100005,0.03995,0.10105,39.42404614752355,4.6415500000000005,1.403985865\n",
            "15.647749999999998,1.51975,0.066825,10.684875,61.35875,147.717425,5.0888,4.9575249999999995,9.412825,1.0833910618749751,533.048775,1.243515037439575,0.5049,0.067401118736325,0.44708819815050005,0.126225,0.319275,45.73874155121803,6.027025,1.7365298075\n",
            "28.67725,2.40525,0.180675,23.777625,106.26625,365.310075,10.3512,11.699975,18.634675,1.549979713217525,924.983725,1.6583925086329248,1.3651,0.18223265436117503,0.6003284089995,0.341275,0.863225,61.478819749589476,9.480475,2.5654324424999997\n",
            "21.930750000000003,1.9467500000000002,0.12172500000000001,16.998375000000003,83.01375,252.643525,7.6264,8.208825000000001,13.859725000000001,1.3083863799136752,722.045075,1.4435745294774749,0.9197000000000001,0.12277442840522501,0.5209826871765001,0.22992500000000002,0.5815750000000001,53.328818785215326,7.692325,2.1362377974999998\n",
            "14.128499999999999,1.4165,0.05355,9.158249999999999,56.1225,122.34594999999999,4.4752,4.17135,8.33755,1.02898645628365,487.34884999999997,1.19513999633205,0.40459999999999996,0.05401167090655,0.429220268427,0.10114999999999999,0.25584999999999997,43.90343599053835,5.62435,1.639879105\n",
            "9.442,1.098,0.0126,4.449,39.97,44.0814,2.5824,1.7462,5.0206,0.8611620797138,346.3762,1.0459152932546,0.09519999999999999,0.0127086284486,0.37410224792400004,0.023799999999999998,0.0602,38.2419849389502,4.3822,1.34173626\n",
            "16.88375,1.60375,0.077625,11.926874999999999,65.61875,168.358625,5.587999999999999,5.597124999999999,10.287625,1.127652435915375,570.2283749999999,1.2828710030863748,0.5864999999999999,0.07829422883512499,0.4616248189425,0.14662499999999998,0.37087499999999995,47.231871498889625,6.354625,1.8151608874999998\n",
            "20.38575,1.84175,0.108225,15.445875,77.68875,226.84202499999998,7.0024,7.409324999999999,12.766225,1.2530596623631751,675.570575,1.394379572418975,0.8177,0.109158040781725,0.5028119111865,0.204425,0.517075,51.46240635062583,7.282825,2.0379489475\n",
            "20.3085,1.8365,0.10754999999999999,15.36825,77.4225,225.55194999999998,6.9712,7.369349999999999,12.71155,1.2502933264856502,673.24685,1.3919198245660498,0.8126,0.10847722140055,0.501903372387,0.20315,0.5138499999999999,51.36908572889635,7.26235,2.033034505\n",
            "21.699,1.931,0.11970000000000001,16.765500000000003,82.215,248.7733,7.532800000000001,8.088899999999999,13.6957,1.3000873722811002,715.0739000000001,1.4361952859187,0.9044,0.1207319702617,0.5182570707780001,0.2261,0.5719,53.0488569200269,7.6309000000000005,2.12149447\n",
            "29.50125,2.4612499999999997,0.187875,24.605625,109.10625,379.07087499999994,10.684,12.126375,19.217875,1.5794872959111252,949.770125,1.6846298190641247,1.4195,0.189494727760375,0.6100194895275,0.354875,0.8976249999999999,62.47423971470387,9.698875000000001,2.6178531625\n",
            "13.3045,1.3605,0.046349999999999995,8.33025,53.2825,108.58514999999998,4.1424,3.74495,7.7543500000000005,0.9994788735900499,462.56245,1.16890268590085,0.35019999999999996,0.04674959750735,0.41952918789900007,0.08754999999999999,0.22144999999999998,42.90801602542395,5.40595,1.587458385\n",
            "29.526999999999997,2.463,0.1881,24.6315,109.195,379.50089999999994,10.6944,12.1397,19.2361,1.5804094078703002,950.5447,1.6854497350150996,1.4211999999999998,0.1897216675541,0.610322335794,0.35529999999999995,0.8986999999999999,62.5053465886137,9.7057,2.61949131\n",
            "10.472,1.168,0.0216,5.484,43.519999999999996,61.282399999999996,2.9984,2.2792,5.7496,0.8980465580807999,377.3592,1.0787119312936,0.1632,0.0217862201976,0.386216098584,0.0408,0.1032,39.4862598953432,4.6552,1.40726216\n",
            "18.506,1.714,0.09179999999999999,13.556999999999999,71.21000000000001,195.45019999999997,6.2432,6.436599999999999,11.4358,1.1857454893434,619.0265999999999,1.3345257079978,0.6935999999999999,0.0925914358398,0.48070413373200005,0.17339999999999997,0.43859999999999993,49.1916045552086,6.784599999999999,1.9183641799999998\n",
            "29.3725,2.4524999999999997,0.18675,24.47625,108.6625,376.92074999999994,10.632,12.05975,19.12675,1.5748767361152503,945.89725,1.6805302393092498,1.4109999999999998,0.18836002879174998,0.6085052581950001,0.35274999999999995,0.8922499999999999,62.31870534515475,9.66475,2.609662425\n",
            "25.613000000000003,2.197,0.1539,20.698500000000003,95.70500000000001,314.13710000000003,9.113600000000002,10.1143,16.4659,1.4402483900757002,832.8093000000001,1.5608225104668998,1.1628,0.15522681890790002,0.564289703286,0.2907,0.7353000000000001,57.7771017543203,8.6683,2.37049289\n",
            "13.07275,1.34475,0.044325,8.097375,52.48375,104.714925,4.0488,3.625025,7.590325,0.991179865957475,455.591275,1.161523442342075,0.33490000000000003,0.044707139363825005,0.41680357150050007,0.08372500000000001,0.211775,42.62805416023552,5.344525,1.5727150575\n",
            "12.8925,1.3325,0.04275,7.91625,51.8625,101.70474999999999,3.976,3.5317499999999997,7.46275,0.9847250822432501,450.16925000000003,1.15578403068525,0.323,0.04311856080775,0.41468364763500004,0.08075,0.20425,42.41030604286675,5.29675,1.561248025\n",
            "16.034,1.546,0.0702,11.073,62.69,154.1678,5.2448,5.1574,9.6862,1.0972227412626,544.6674,1.2558137767042,0.5304,0.0708052156422,0.451630892148,0.1326,0.3354,46.2053446598654,6.1294,1.76110202\n",
            "15.4675,1.5074999999999998,0.06525,10.50375,60.7375,144.70725,5.016,4.86425,9.285250000000001,1.0769362781607499,527.62675,1.23777562578275,0.49299999999999994,0.06581254018025,0.444968274285,0.12324999999999998,0.31174999999999997,45.52099343384925,5.97925,1.725062775\n",
            "29.50125,2.4612499999999997,0.187875,24.605625,109.10625,379.07087499999994,10.684,12.126375,19.217875,1.5794872959111252,949.770125,1.6846298190641247,1.4195,0.189494727760375,0.6100194895275,0.354875,0.8976249999999999,62.47423971470387,9.698875000000001,2.6178531625\n",
            "26.20525,2.23725,0.159075,21.293625,97.74625,324.027675,9.3528,10.420774999999999,16.885075,1.461456965136725,850.624525,1.579680577339325,1.2019,0.16044643416357499,0.5712551674155,0.300475,0.760025,58.492559854246274,8.825275,2.4081702824999995\n",
            "8.43775,1.02975,0.0038250000000000003,3.439875,36.50875,27.310425000000002,2.1768,1.226525,4.309825,0.825199713305975,316.167775,1.013938571166575,0.028900000000000002,0.0038579764933250006,0.3622912435305,0.0072250000000000005,0.018275,37.028816856467024,4.116025,1.2778485075\n",
            "12.377500000000001,1.2975,0.038250000000000006,7.398750000000001,50.0875,93.10425000000001,3.7680000000000002,3.26525,7.09825,0.96628284305975,434.67775,1.13938571166575,0.28900000000000003,0.03857976493325,0.408626722305,0.07225000000000001,0.18275,41.78816856467025,5.16025,1.5284850749999999\n",
            "28.11075,2.36675,0.17572500000000002,23.208375,104.31375,355.84952499999997,10.1224,11.406825,18.233725,1.5296932501156753,907.943075,1.640354357711475,1.3277,0.17723997889922502,0.5936657911365001,0.331925,0.839575,60.79446852357333,9.330325,2.5293931975\n",
            "13.02125,1.34125,0.043875000000000004,8.045625000000001,52.306250000000006,103.85487499999999,4.0280000000000005,3.598375,7.553875000000001,0.989335642039125,454.04212500000006,1.159883610440125,0.3315,0.044253259776375,0.41619787896750005,0.082875,0.209625,42.565840412415874,5.330875,1.5694387625\n",
            "28.67725,2.40525,0.180675,23.777625,106.26625,365.310075,10.3512,11.699975,18.634675,1.549979713217525,924.983725,1.6583925086329248,1.3651,0.18223265436117503,0.6003284089995,0.341275,0.863225,61.478819749589476,9.480475,2.5654324424999997\n",
            "12.377500000000001,1.2975,0.038250000000000006,7.398750000000001,50.0875,93.10425000000001,3.7680000000000002,3.26525,7.09825,0.96628284305975,434.67775,1.13938571166575,0.28900000000000003,0.03857976493325,0.408626722305,0.07225000000000001,0.18275,41.78816856467025,5.16025,1.5284850749999999\n",
            "14.46325,1.43925,0.056475000000000004,9.494625,57.276250000000005,127.936275,4.6104,4.344575,8.574475,1.040973911752925,497.418325,1.205798903694725,0.42669999999999997,0.056961888224975,0.43315726989150005,0.10667499999999999,0.269825,44.30782535136608,5.713075,1.6611750225\n",
            "28.9605,2.4245,0.18314999999999998,24.06225,107.24249999999999,370.04034999999993,10.4656,11.846549999999999,18.83515,1.56012294476845,933.50405,1.6674115840936499,1.3838,0.18472899209215,0.603659717931,0.34595,0.8750499999999999,61.82099536259754,9.55555,2.583452065\n",
            "24.81475,2.14275,0.146925,19.896375,92.95375,300.806325,8.7912,9.701224999999999,15.900925,1.411662919341275,808.7974750000001,1.5354051159866748,1.1101,0.14819168530242502,0.5549014690245,0.277525,0.701975,56.812788663115725,8.456725,2.3197103175000002\n",
            "12.14575,1.28175,0.036225,7.165875,49.28875,89.234025,3.6744000000000003,3.145325,6.9342250000000005,0.957983835427175,427.70657500000004,1.132006468106975,0.2737,0.036537306789725,0.4059011059065,0.068425,0.173075,41.508206699481825,5.098825,1.5137417475000001\n",
            "15.828,1.532,0.0684,10.866,61.980000000000004,150.7276,5.1616,5.0508,9.5404,1.0898458455892,538.4708,1.2492544490964,0.5167999999999999,0.0689896972924,0.449208122016,0.12919999999999998,0.3268,45.9564896685868,6.0748,1.7479968399999999\n",
            "9.72525,1.11725,0.015075000000000002,4.733625,40.94625,48.811675,2.6968,1.8927749999999999,5.221075,0.871305311264725,354.896525,1.054934368715325,0.1139,0.015204966179575001,0.37743355685550006,0.028475,0.072025,38.58416055195828,4.457275,1.3597558825\n",
            "12.686499999999999,1.3185,0.04095,7.70925,51.1525,98.26455,3.8928000000000003,3.42515,7.31695,0.97734818656985,443.97265000000004,1.1492247030774498,0.3094,0.04130304245795,0.41226087750300006,0.07735,0.19565,42.16145105158815,5.2421500000000005,1.548142845\n",
            "26.951999999999998,2.2880000000000003,0.1656,22.044,100.32,336.4984,9.654399999999999,10.8072,17.413600000000002,1.4881982119528,873.0872,1.6034581399176,1.2511999999999999,0.1670276881816,0.5800377091440001,0.31279999999999997,0.7911999999999999,59.3946591976312,9.0232,2.4556765599999997\n",
            "22.883499999999998,2.0115,0.13005,17.95575,86.2975,268.55445,8.011199999999999,8.70185,14.53405,1.34250452240315,750.70435,1.4739114196635499,0.9825999999999999,0.13117120077305,0.532187999037,0.24564999999999998,0.62135,54.47977311987884,7.94485,2.196849255\n",
            "9.00425,1.06825,0.008775,4.009125,38.46125,36.770975,2.4056,1.5196749999999999,4.710775,0.845486176407825,333.208425,1.031976722088025,0.0663,0.008850651955275,0.36895386139350006,0.016575,0.041925,37.71316808248317,4.266175,1.3138877525\n",
            "27.59575,2.33175,0.17122500000000002,22.690875000000002,102.53875000000001,347.24902499999996,9.9144,11.140324999999999,17.869225,1.5112510109321753,892.451575,1.623956038691975,1.2937,0.172701183024725,0.5876088658065001,0.323425,0.818075,60.17233104537682,9.193825,2.4966302474999997\n",
            "32.59125,2.6712499999999997,0.21487499999999998,27.710625,119.75625,430.67387499999995,11.932,13.725375,21.404875,1.690140731012125,1042.719125,1.7830197331811248,1.6235,0.216727503007375,0.6463610415075001,0.405875,1.026625,66.20706458388287,10.517875,2.8144308625\n",
            "14.9525,1.4725000000000001,0.060750000000000005,9.98625,58.962500000000006,136.10675,4.808,4.59775,8.920750000000002,1.05849403897725,512.13525,1.2213773067632498,0.459,0.06127374430575001,0.43891134895500006,0.11475,0.29025,44.89885595565275,5.8427500000000006,1.692299825\n",
            "22.085250000000002,1.9572500000000002,0.12307500000000002,17.153625,83.54625,255.22367500000001,7.6888000000000005,8.288775000000001,13.969075000000002,1.3139190516687251,726.692525,1.448494025183325,0.9299000000000001,0.12413606716757501,0.5227997647755,0.23247500000000001,0.588025,53.515460028674276,7.733275000000001,2.1460666825\n",
            "29.011999999999997,2.428,0.18359999999999999,24.113999999999997,107.42,370.90039999999993,10.4864,11.873199999999999,18.8716,1.5619671686868002,935.0532,1.6690514159955998,1.3871999999999998,0.1851828716796,0.6042654104640001,0.34679999999999994,0.8771999999999999,61.8832091104172,9.569199999999999,2.5867283599999995\n",
            "14.77225,1.46025,0.059175000000000005,9.805125,58.34125,133.096575,4.735200000000001,4.504474999999999,8.793175000000002,1.052039255263025,506.713225,1.215637895106425,0.4471,0.059685165749675,0.43679142508950003,0.111775,0.282725,44.68110783828398,5.794975,1.6808327925\n",
            "18.866500000000002,1.7385,0.09494999999999999,13.91925,72.4525,201.47054999999997,6.3888,6.62315,11.69095,1.19865505677185,629.8706500000001,1.34600453131145,0.7173999999999999,0.09576859295195,0.48494398146300005,0.17934999999999998,0.45364999999999994,49.62710078994615,6.88015,1.941298245\n",
            "27.673000000000002,2.3369999999999997,0.1719,22.7685,102.805,348.53909999999996,9.9456,11.180299999999999,17.923900000000003,1.5140173468097,894.7753,1.6264157865448998,1.2988,0.17338200240590002,0.588517404606,0.3247,0.8213,60.2656516671063,9.214300000000001,2.5015446900000002\n",
            "30.99475,2.5627500000000003,0.20092500000000002,26.106375,114.25375,404.012325,11.2872,12.899225,20.274925000000003,1.6329697895432753,994.6954750000001,1.7321849442206747,1.5181,0.202657235796425,0.6275845729845,0.379525,0.959975,64.27843840147372,10.094725,2.7128657174999997\n",
            "23.63025,2.0622499999999997,0.136575,18.706125,88.87125,281.025175,8.3128,9.088275,15.062575,1.369245769219225,773.167025,1.497688982241825,1.0319,0.137752454791075,0.5409705407655001,0.257975,0.6525249999999999,55.381872463263775,8.142775,2.2443555324999998\n",
            "32.179249999999996,2.64325,0.211275,27.296625,118.33624999999999,423.79347499999994,11.7656,13.512175,21.113275,1.6753869396653251,1030.325925,1.7699010779655246,1.5962999999999998,0.21309646630777498,0.6415155012435001,0.39907499999999996,1.0094249999999998,65.70935460132567,10.408674999999999,2.7882205024999998\n",
            "16.755000000000003,1.5950000000000002,0.07650000000000001,11.797500000000001,65.175,166.20850000000002,5.5360000000000005,5.5305,10.1965,1.1230418761195,566.3555,1.2787714233315,0.5780000000000001,0.0771595298665,0.46011058761000007,0.14450000000000002,0.3655,47.0763371293405,6.3205,1.80697015\n",
            "27.54425,2.3282499999999997,0.170775,22.639125,102.36125,346.38897499999996,9.8936,11.113674999999999,17.832775,1.509406787013825,890.902425,1.6223162067900248,1.2903,0.172247303437275,0.5870031732735,0.322575,0.815925,60.110117297557174,9.180175,2.4933539524999997\n",
            "31.3295,2.5855,0.20385,26.44275,115.4075,409.60265,11.422400000000001,13.07245,20.511850000000003,1.64495724501255,1004.7649500000001,1.7428438515833498,1.5402,0.20560745311485001,0.631521574449,0.38505,0.97395,64.68282776230146,10.18345,2.734161635\n",
            "26.9005,2.2845,0.16515,21.99225,100.1425,335.63835,9.633600000000001,10.78055,17.37715,1.48635398803445,871.53805,1.6018183080156498,1.2478,0.16657380859415,0.5794320166110001,0.31195,0.7890499999999999,59.332445449811544,9.00955,2.4524002649999996\n",
            "32.28225,2.6502499999999998,0.212175,27.400125,118.69125,425.51357499999995,11.8072,13.565475,21.186175,1.6790753875020252,1033.424225,1.7731807417694248,1.6031,0.214004225482675,0.6427268863095,0.400775,1.013725,65.83378209696497,10.435975,2.7947730925\n",
            "13.098500000000001,1.3465,0.044550000000000006,8.12325,52.572500000000005,105.14495,4.059200000000001,3.63835,7.608550000000001,0.99210197791665,456.36585,1.16234335829305,0.3366,0.04493407915755,0.417106417767,0.08415,0.21285,42.65916103414535,5.35135,1.574353205\n",
            "15.312999999999999,1.4969999999999999,0.0639,10.3485,60.205,142.12709999999998,4.9536,4.7843,9.175899999999999,1.0714036064057,522.9793,1.2328561300768999,0.48279999999999995,0.0644509014179,0.443151196686,0.12069999999999999,0.30529999999999996,45.3343521903903,5.9383,1.71523389\n",
            "25.304000000000002,2.176,0.1512,20.388,94.64,308.9768,8.988800000000001,9.9544,16.2472,1.4291830465656001,823.5144,1.5509835190552,1.1424,0.15250354138320002,0.560655548088,0.2856,0.7224,57.4038192674024,8.586400000000001,2.35083512\n",
            "12.9955,1.3395000000000001,0.04365,8.01975,52.2175,103.42484999999999,4.0176,3.58505,7.53565,0.98841353007995,453.26755,1.15906369448915,0.3298,0.044026319982650004,0.41589503270100003,0.08245,0.20854999999999999,42.534733538506046,5.32405,1.567800615\n",
            "32.205,2.645,0.2115,27.322499999999998,118.425,424.22349999999994,11.776,13.5255,21.1315,1.6763090516245,1031.1005,1.7707209939164996,1.5979999999999999,0.2133234061015,0.6418183475100001,0.39949999999999997,1.0105,65.74046147523549,10.4155,2.7898586499999998\n",
            "33.62125,2.74125,0.223875,28.745625,123.30625,447.874875,12.348,14.258375,22.133875,1.7270252093791252,1073.702125,1.8158163712201247,1.6915,0.225805094756375,0.6584748921675001,0.422875,1.069625,67.45133954027587,10.790875,2.8799567625\n",
            "27.28675,2.31075,0.168525,22.380375,101.47375,342.088725,9.7896,10.980425,17.650525000000002,1.500185667422075,883.1566750000001,1.6141170472802748,1.2732999999999999,0.169977905500025,0.5839747106085,0.31832499999999997,0.805175,59.79904855845892,9.111925,2.4769724775\n",
            "14.592,1.448,0.057600000000000005,9.624,57.72,130.0864,4.6624,4.4112,8.665600000000001,1.0455844715488,501.2912,1.2098984834496,0.4352,0.0580965871936,0.43467150122400006,0.1088,0.2752,44.4633597209152,5.7472,1.66936576\n",
            "8.9785,1.0665,0.00855,3.98325,38.3725,36.34095,2.3952,1.5063499999999999,4.69255,0.84456406444865,332.43385,1.03115680613705,0.06459999999999999,0.00862371216155,0.36865101512700005,0.016149999999999998,0.04085,37.68206120857335,4.25935,1.312249605\n",
            "28.16225,2.37025,0.176175,23.260125000000002,104.49125000000001,356.709575,10.1432,11.433475,18.270175000000002,1.531537474034025,909.4922250000001,1.641994189613425,1.3311,0.17769385848667502,0.5942714836695,0.332775,0.841725,60.85668227139297,9.343975,2.5326694925\n",
            "8.18025,1.01225,0.001575,3.181125,35.62125,23.010175,2.0728,1.093275,4.127575,0.815978593714225,308.422025,1.005739411656825,0.011899999999999999,0.001588578556075,0.3592627808655,0.0029749999999999998,0.007525,36.71774811736878,4.047775,1.2614670325\n",
            "25.793249999999997,2.20925,0.155475,20.879624999999997,96.32624999999999,317.147275,9.186399999999999,10.207574999999999,16.593474999999998,1.446703173789925,838.231325,1.5665619221237248,1.1746999999999999,0.156815397463975,0.5664096271515,0.29367499999999996,0.742825,57.99484987168907,8.716075,2.3819599225\n",
            "8.23175,1.01575,0.002025,3.232875,35.79875,23.870224999999998,2.0936,1.119925,4.164025,0.8178228176325749,309.971175,1.007379243558775,0.015299999999999998,0.002042458143525,0.35986847339850003,0.0038249999999999994,0.009675,36.779961865188426,4.061425,1.2647433275\n",
            "21.081,1.889,0.1143,16.1445,80.08500000000001,238.4527,7.2832,7.7691,13.2583,1.2779566852609001,696.4841,1.4165173030952998,0.8636,0.1152854152123,0.510988760382,0.2159,0.5461,52.3022919461911,7.4671,2.08217893\n",
            "12.120000000000001,1.28,0.036000000000000004,7.14,49.2,88.804,3.664,3.132,6.916,0.957061723468,426.932,1.131186552156,0.272,0.036310366996,0.40559825964000007,0.068,0.172,41.477099825572,5.0920000000000005,1.5121036\n",
            "13.17575,1.35175,0.045225,8.200875,52.838750000000005,106.435025,4.090400000000001,3.678325,7.663225000000001,0.994868313794175,458.689575,1.164803106145975,0.3417,0.045614898538725,0.41801495656650006,0.085425,0.21607500000000002,42.752481655874824,5.371825,1.5792676475\n",
            "13.974,1.4060000000000001,0.0522,9.003,55.59,119.7658,4.412800000000001,4.0914,8.228200000000001,1.0234537845286,482.70140000000004,1.1902205006261999,0.39440000000000003,0.052650032144200005,0.42740319082800005,0.09860000000000001,0.2494,43.7167947470794,5.5834,1.63005022\n",
            "22.5745,1.9905,0.12735,17.645249999999997,85.23249999999999,263.39414999999997,7.8864,8.54195,14.31535,1.3314391788930502,741.40945,1.4640724282518498,0.9621999999999998,0.12844792324835,0.5285538438390001,0.24054999999999996,0.6084499999999999,54.10649063296095,7.86295,2.177191485\n",
            "24.686,2.1340000000000003,0.1458,19.767,92.51,298.6562,8.7392,9.634599999999999,15.809800000000001,1.4070523595454,804.9246,1.5313055362318,1.1016,0.14705698633380002,0.553387237692,0.2754,0.6966,56.657254293566595,8.4226,2.3115195799999997\n",
            "29.784499999999998,2.4805,0.19035,24.890249999999998,110.0825,383.80114999999995,10.7984,12.27295,19.41835,1.5896305274620501,958.29045,1.6936488945248498,1.4382,0.19199106549135,0.6133507984590001,0.35955,0.90945,62.81641532771195,9.77395,2.635872785\n",
            "27.13225,2.30025,0.167175,22.225125,100.94125,339.508575,9.7272,10.900475,17.541175000000003,1.4946529956670251,878.509225,1.6091975515744248,1.2631,0.168616266737675,0.5821576330095001,0.315775,0.7987249999999999,59.61240731499997,9.070975,2.4671435925\n",
            "27.95625,2.35625,0.174375,23.053125,103.78125,353.26937499999997,10.06,11.326875,18.124375,1.5241605783606251,903.2956250000001,1.6354348620056247,1.3175,0.175878340136875,0.5918487135375,0.329375,0.833125,60.60782728011438,9.289375,2.5195643125\n",
            "28.0335,2.3615,0.17505,23.13075,104.0475,354.55944999999997,10.0912,11.36685,18.179050000000004,1.52692691423815,905.61935,1.6378946098585498,1.3226,0.17655915951805,0.592757252337,0.33065,0.83635,60.701147901843854,9.30985,2.5244787549999996\n",
            "13.948250000000002,1.40425,0.051975,8.977125000000001,55.50125,119.335775,4.4024,4.078075,8.209975,1.022531672569425,481.926825,1.189400584675225,0.3927,0.052423092350475,0.42710034456150003,0.098175,0.248325,43.68568787316958,5.576575,1.6284120725\n",
            "23.32125,2.04125,0.133875,18.395625,87.80625,275.864875,8.187999999999999,8.928374999999999,14.843875,1.358180425709125,763.872125,1.4878499908301248,1.0114999999999998,0.135029177266375,0.5373363855675001,0.25287499999999996,0.639625,55.008589976345874,8.060875,2.2246977625\n",
            "20.4115,1.8435,0.10845,15.47175,77.7775,227.27204999999998,7.0128,7.422649999999999,12.78445,1.25398177432235,676.34515,1.39519948836995,0.8193999999999999,0.10938498057545,0.503114757453,0.20484999999999998,0.51815,51.49351322453565,7.28965,2.039587095\n",
            "30.63425,2.53825,0.197775,25.744125,113.01125,397.99197499999997,11.1416,12.712674999999999,20.019775000000003,1.6200602221148253,983.8514250000001,1.7207061209070247,1.4943,0.199480078684275,0.6233447252535,0.373575,0.944925,63.84294216673617,9.999175000000001,2.6899316525\n",
            "11.27025,1.22225,0.028575,6.286125,46.27125,74.613175,3.3208,2.692275,6.314575,0.926632028815225,401.37102500000003,1.104129325773825,0.2159,0.028821353803075,0.39560433284550006,0.053975,0.136525,40.450572986547776,4.8667750000000005,1.4580447324999999\n",
            "8.8755,1.0595,0.0076500000000000005,3.87975,38.0175,34.620850000000004,2.3536,1.45305,4.61965,0.84087561661195,329.33555,1.02787714233315,0.057800000000000004,0.007715952986650001,0.36743963006100006,0.014450000000000001,0.03655,37.55763371293405,4.23205,1.305697015\n",
            "11.32175,1.2257500000000001,0.029025000000000002,6.337875,46.448750000000004,75.473225,3.3416,2.718925,6.351025,0.928476252733575,402.92017500000003,1.1057691576757749,0.2193,0.029275233390525002,0.39621002537850003,0.054825,0.138675,40.512786734367424,4.880425,1.4613210275\n",
            "31.09775,2.56975,0.201825,26.209875,114.60875,405.732425,11.328800000000001,12.952525,20.347825,1.6366582373799752,997.7937750000001,1.7354646080245748,1.5249,0.20356499497132502,0.6287959580505,0.381225,0.964275,64.40286589711303,10.122025,2.7194183075\n",
            "15.441749999999999,1.50575,0.065025,10.477875,60.64875,144.277225,5.005599999999999,4.850925,9.267025,1.076014166201575,526.852175,1.236955709831775,0.49129999999999996,0.065585600386525,0.44466542801850006,0.12282499999999999,0.310675,45.48988655993942,5.972424999999999,1.7234246275\n",
            "31.793000000000003,2.617,0.2079,26.9085,117.00500000000001,417.3431,11.6096,13.3123,20.839900000000004,1.6615552602777002,1018.7073,1.7576023387008999,1.5708,0.2096923694019,0.6369728072460001,0.3927,0.9933,65.2427514926783,10.3063,2.76364829\n",
            "15.776499999999999,1.5285,0.06795,10.81425,61.802499999999995,149.86755,5.1408000000000005,5.02415,9.50395,1.0880016216708501,536.92165,1.24761461719445,0.5134,0.06853581770495,0.44860242948300005,0.12835,0.32465,45.89427592076715,6.06115,1.7447205449999998\n",
            "10.7295,1.1855,0.02385,5.74275,44.4075,65.58265,3.1024000000000003,2.4124499999999998,5.93185,0.90726767767255,385.10495000000003,1.08691109080335,0.1802,0.02405561813485,0.38924456124900003,0.04505,0.11395,39.79732863444145,4.72345,1.423643635\n",
            "21.3385,1.9065,0.11655,16.40325,80.9725,242.75295,7.3872,7.90235,13.440550000000002,1.28717780485265,704.22985,1.42471646260505,0.8806,0.11755481314955,0.514017223047,0.22015,0.55685,52.61336068528935,7.53535,2.0985604049999997\n"
          ]
        }
      ]
    },
    {
      "cell_type": "code",
      "metadata": {
        "colab": {
          "base_uri": "https://localhost:8080/"
        },
        "id": "xaxUN-lYB4fw",
        "outputId": "520e091f-588a-437b-82f8-b0292afa2c5c"
      },
      "source": [
        "D0 = pd.read_csv('hello.csv')\n",
        "D0.shape"
      ],
      "execution_count": null,
      "outputs": [
        {
          "output_type": "execute_result",
          "data": {
            "text/plain": [
              "(312, 22)"
            ]
          },
          "metadata": {},
          "execution_count": 49
        }
      ]
    },
    {
      "cell_type": "code",
      "metadata": {
        "colab": {
          "base_uri": "https://localhost:8080/"
        },
        "id": "W0pmetHfCJNH",
        "outputId": "18a7a7ad-58f6-4607-93c5-cc398fd822f4"
      },
      "source": [
        "D0.head()"
      ],
      "execution_count": null,
      "outputs": [
        {
          "output_type": "execute_result",
          "data": {
            "text/html": [
              "<div>\n",
              "<style scoped>\n",
              "    .dataframe tbody tr th:only-of-type {\n",
              "        vertical-align: middle;\n",
              "    }\n",
              "\n",
              "    .dataframe tbody tr th {\n",
              "        vertical-align: top;\n",
              "    }\n",
              "\n",
              "    .dataframe thead th {\n",
              "        text-align: right;\n",
              "    }\n",
              "</style>\n",
              "<table border=\"1\" class=\"dataframe\">\n",
              "  <thead>\n",
              "    <tr style=\"text-align: right;\">\n",
              "      <th></th>\n",
              "      <th>Unnamed: 0</th>\n",
              "      <th>wmc</th>\n",
              "      <th>dit</th>\n",
              "      <th>noc</th>\n",
              "      <th>cbo</th>\n",
              "      <th>rfc</th>\n",
              "      <th>lcom</th>\n",
              "      <th>ca</th>\n",
              "      <th>ce</th>\n",
              "      <th>npm</th>\n",
              "      <th>lcom3</th>\n",
              "      <th>loc</th>\n",
              "      <th>dam</th>\n",
              "      <th>moa</th>\n",
              "      <th>mfa</th>\n",
              "      <th>cam</th>\n",
              "      <th>ic</th>\n",
              "      <th>cbm</th>\n",
              "      <th>amc</th>\n",
              "      <th>max_cc</th>\n",
              "      <th>avg_cc</th>\n",
              "      <th>bug</th>\n",
              "    </tr>\n",
              "  </thead>\n",
              "  <tbody>\n",
              "    <tr>\n",
              "      <th>0</th>\n",
              "      <td>0.0</td>\n",
              "      <td>28.0</td>\n",
              "      <td>1.0</td>\n",
              "      <td>0.0</td>\n",
              "      <td>32.0</td>\n",
              "      <td>82.0</td>\n",
              "      <td>374.0</td>\n",
              "      <td>26.0</td>\n",
              "      <td>7.0</td>\n",
              "      <td>24.0</td>\n",
              "      <td>1.012346</td>\n",
              "      <td>926.0</td>\n",
              "      <td>0.166667</td>\n",
              "      <td>0.0</td>\n",
              "      <td>0.000000</td>\n",
              "      <td>0.226337</td>\n",
              "      <td>0.0</td>\n",
              "      <td>0.0</td>\n",
              "      <td>31.642857</td>\n",
              "      <td>23.0</td>\n",
              "      <td>2.6786</td>\n",
              "      <td>1.0</td>\n",
              "    </tr>\n",
              "    <tr>\n",
              "      <th>1</th>\n",
              "      <td>5.0</td>\n",
              "      <td>23.0</td>\n",
              "      <td>2.0</td>\n",
              "      <td>0.0</td>\n",
              "      <td>150.0</td>\n",
              "      <td>67.0</td>\n",
              "      <td>235.0</td>\n",
              "      <td>147.0</td>\n",
              "      <td>5.0</td>\n",
              "      <td>20.0</td>\n",
              "      <td>0.852273</td>\n",
              "      <td>653.0</td>\n",
              "      <td>0.750000</td>\n",
              "      <td>1.0</td>\n",
              "      <td>0.280000</td>\n",
              "      <td>0.280303</td>\n",
              "      <td>1.0</td>\n",
              "      <td>1.0</td>\n",
              "      <td>26.869565</td>\n",
              "      <td>9.0</td>\n",
              "      <td>1.8696</td>\n",
              "      <td>1.0</td>\n",
              "    </tr>\n",
              "    <tr>\n",
              "      <th>2</th>\n",
              "      <td>7.0</td>\n",
              "      <td>25.0</td>\n",
              "      <td>4.0</td>\n",
              "      <td>0.0</td>\n",
              "      <td>18.0</td>\n",
              "      <td>73.0</td>\n",
              "      <td>200.0</td>\n",
              "      <td>1.0</td>\n",
              "      <td>0.0</td>\n",
              "      <td>18.0</td>\n",
              "      <td>0.854167</td>\n",
              "      <td>666.0</td>\n",
              "      <td>1.000000</td>\n",
              "      <td>0.0</td>\n",
              "      <td>0.736264</td>\n",
              "      <td>0.380000</td>\n",
              "      <td>0.0</td>\n",
              "      <td>0.0</td>\n",
              "      <td>25.320000</td>\n",
              "      <td>13.0</td>\n",
              "      <td>1.9200</td>\n",
              "      <td>1.0</td>\n",
              "    </tr>\n",
              "    <tr>\n",
              "      <th>3</th>\n",
              "      <td>14.0</td>\n",
              "      <td>19.0</td>\n",
              "      <td>1.0</td>\n",
              "      <td>0.0</td>\n",
              "      <td>8.0</td>\n",
              "      <td>42.0</td>\n",
              "      <td>99.0</td>\n",
              "      <td>2.0</td>\n",
              "      <td>7.0</td>\n",
              "      <td>3.0</td>\n",
              "      <td>0.788889</td>\n",
              "      <td>329.0</td>\n",
              "      <td>1.000000</td>\n",
              "      <td>1.0</td>\n",
              "      <td>0.000000</td>\n",
              "      <td>0.263158</td>\n",
              "      <td>0.0</td>\n",
              "      <td>0.0</td>\n",
              "      <td>16.052632</td>\n",
              "      <td>5.0</td>\n",
              "      <td>1.5789</td>\n",
              "      <td>1.0</td>\n",
              "    </tr>\n",
              "    <tr>\n",
              "      <th>4</th>\n",
              "      <td>30.0</td>\n",
              "      <td>37.0</td>\n",
              "      <td>6.0</td>\n",
              "      <td>0.0</td>\n",
              "      <td>26.0</td>\n",
              "      <td>120.0</td>\n",
              "      <td>570.0</td>\n",
              "      <td>2.0</td>\n",
              "      <td>26.0</td>\n",
              "      <td>24.0</td>\n",
              "      <td>0.848765</td>\n",
              "      <td>1123.0</td>\n",
              "      <td>0.666667</td>\n",
              "      <td>0.0</td>\n",
              "      <td>0.825243</td>\n",
              "      <td>0.120120</td>\n",
              "      <td>4.0</td>\n",
              "      <td>18.0</td>\n",
              "      <td>29.108108</td>\n",
              "      <td>9.0</td>\n",
              "      <td>2.5676</td>\n",
              "      <td>1.0</td>\n",
              "    </tr>\n",
              "  </tbody>\n",
              "</table>\n",
              "</div>"
            ],
            "text/plain": [
              "   Unnamed: 0   wmc  dit  noc    cbo  ...   cbm        amc  max_cc  avg_cc  bug\n",
              "0         0.0  28.0  1.0  0.0   32.0  ...   0.0  31.642857    23.0  2.6786  1.0\n",
              "1         5.0  23.0  2.0  0.0  150.0  ...   1.0  26.869565     9.0  1.8696  1.0\n",
              "2         7.0  25.0  4.0  0.0   18.0  ...   0.0  25.320000    13.0  1.9200  1.0\n",
              "3        14.0  19.0  1.0  0.0    8.0  ...   0.0  16.052632     5.0  1.5789  1.0\n",
              "4        30.0  37.0  6.0  0.0   26.0  ...  18.0  29.108108     9.0  2.5676  1.0\n",
              "\n",
              "[5 rows x 22 columns]"
            ]
          },
          "metadata": {},
          "execution_count": 50
        }
      ]
    },
    {
      "cell_type": "code",
      "metadata": {
        "id": "Wd2PiX_WCQFY"
      },
      "source": [
        "D0.drop(['Unnamed: 0'],axis=1,inplace=True)\n"
      ],
      "execution_count": null,
      "outputs": []
    },
    {
      "cell_type": "code",
      "metadata": {
        "colab": {
          "base_uri": "https://localhost:8080/"
        },
        "id": "y3kuhd0MCS-2",
        "outputId": "33405cc0-cd8b-4364-841b-ad3afd16e63a"
      },
      "source": [
        "D0.head()"
      ],
      "execution_count": null,
      "outputs": [
        {
          "output_type": "execute_result",
          "data": {
            "text/html": [
              "<div>\n",
              "<style scoped>\n",
              "    .dataframe tbody tr th:only-of-type {\n",
              "        vertical-align: middle;\n",
              "    }\n",
              "\n",
              "    .dataframe tbody tr th {\n",
              "        vertical-align: top;\n",
              "    }\n",
              "\n",
              "    .dataframe thead th {\n",
              "        text-align: right;\n",
              "    }\n",
              "</style>\n",
              "<table border=\"1\" class=\"dataframe\">\n",
              "  <thead>\n",
              "    <tr style=\"text-align: right;\">\n",
              "      <th></th>\n",
              "      <th>wmc</th>\n",
              "      <th>dit</th>\n",
              "      <th>noc</th>\n",
              "      <th>cbo</th>\n",
              "      <th>rfc</th>\n",
              "      <th>lcom</th>\n",
              "      <th>ca</th>\n",
              "      <th>ce</th>\n",
              "      <th>npm</th>\n",
              "      <th>lcom3</th>\n",
              "      <th>loc</th>\n",
              "      <th>dam</th>\n",
              "      <th>moa</th>\n",
              "      <th>mfa</th>\n",
              "      <th>cam</th>\n",
              "      <th>ic</th>\n",
              "      <th>cbm</th>\n",
              "      <th>amc</th>\n",
              "      <th>max_cc</th>\n",
              "      <th>avg_cc</th>\n",
              "      <th>bug</th>\n",
              "    </tr>\n",
              "  </thead>\n",
              "  <tbody>\n",
              "    <tr>\n",
              "      <th>0</th>\n",
              "      <td>28.0</td>\n",
              "      <td>1.0</td>\n",
              "      <td>0.0</td>\n",
              "      <td>32.0</td>\n",
              "      <td>82.0</td>\n",
              "      <td>374.0</td>\n",
              "      <td>26.0</td>\n",
              "      <td>7.0</td>\n",
              "      <td>24.0</td>\n",
              "      <td>1.012346</td>\n",
              "      <td>926.0</td>\n",
              "      <td>0.166667</td>\n",
              "      <td>0.0</td>\n",
              "      <td>0.000000</td>\n",
              "      <td>0.226337</td>\n",
              "      <td>0.0</td>\n",
              "      <td>0.0</td>\n",
              "      <td>31.642857</td>\n",
              "      <td>23.0</td>\n",
              "      <td>2.6786</td>\n",
              "      <td>1.0</td>\n",
              "    </tr>\n",
              "    <tr>\n",
              "      <th>1</th>\n",
              "      <td>23.0</td>\n",
              "      <td>2.0</td>\n",
              "      <td>0.0</td>\n",
              "      <td>150.0</td>\n",
              "      <td>67.0</td>\n",
              "      <td>235.0</td>\n",
              "      <td>147.0</td>\n",
              "      <td>5.0</td>\n",
              "      <td>20.0</td>\n",
              "      <td>0.852273</td>\n",
              "      <td>653.0</td>\n",
              "      <td>0.750000</td>\n",
              "      <td>1.0</td>\n",
              "      <td>0.280000</td>\n",
              "      <td>0.280303</td>\n",
              "      <td>1.0</td>\n",
              "      <td>1.0</td>\n",
              "      <td>26.869565</td>\n",
              "      <td>9.0</td>\n",
              "      <td>1.8696</td>\n",
              "      <td>1.0</td>\n",
              "    </tr>\n",
              "    <tr>\n",
              "      <th>2</th>\n",
              "      <td>25.0</td>\n",
              "      <td>4.0</td>\n",
              "      <td>0.0</td>\n",
              "      <td>18.0</td>\n",
              "      <td>73.0</td>\n",
              "      <td>200.0</td>\n",
              "      <td>1.0</td>\n",
              "      <td>0.0</td>\n",
              "      <td>18.0</td>\n",
              "      <td>0.854167</td>\n",
              "      <td>666.0</td>\n",
              "      <td>1.000000</td>\n",
              "      <td>0.0</td>\n",
              "      <td>0.736264</td>\n",
              "      <td>0.380000</td>\n",
              "      <td>0.0</td>\n",
              "      <td>0.0</td>\n",
              "      <td>25.320000</td>\n",
              "      <td>13.0</td>\n",
              "      <td>1.9200</td>\n",
              "      <td>1.0</td>\n",
              "    </tr>\n",
              "    <tr>\n",
              "      <th>3</th>\n",
              "      <td>19.0</td>\n",
              "      <td>1.0</td>\n",
              "      <td>0.0</td>\n",
              "      <td>8.0</td>\n",
              "      <td>42.0</td>\n",
              "      <td>99.0</td>\n",
              "      <td>2.0</td>\n",
              "      <td>7.0</td>\n",
              "      <td>3.0</td>\n",
              "      <td>0.788889</td>\n",
              "      <td>329.0</td>\n",
              "      <td>1.000000</td>\n",
              "      <td>1.0</td>\n",
              "      <td>0.000000</td>\n",
              "      <td>0.263158</td>\n",
              "      <td>0.0</td>\n",
              "      <td>0.0</td>\n",
              "      <td>16.052632</td>\n",
              "      <td>5.0</td>\n",
              "      <td>1.5789</td>\n",
              "      <td>1.0</td>\n",
              "    </tr>\n",
              "    <tr>\n",
              "      <th>4</th>\n",
              "      <td>37.0</td>\n",
              "      <td>6.0</td>\n",
              "      <td>0.0</td>\n",
              "      <td>26.0</td>\n",
              "      <td>120.0</td>\n",
              "      <td>570.0</td>\n",
              "      <td>2.0</td>\n",
              "      <td>26.0</td>\n",
              "      <td>24.0</td>\n",
              "      <td>0.848765</td>\n",
              "      <td>1123.0</td>\n",
              "      <td>0.666667</td>\n",
              "      <td>0.0</td>\n",
              "      <td>0.825243</td>\n",
              "      <td>0.120120</td>\n",
              "      <td>4.0</td>\n",
              "      <td>18.0</td>\n",
              "      <td>29.108108</td>\n",
              "      <td>9.0</td>\n",
              "      <td>2.5676</td>\n",
              "      <td>1.0</td>\n",
              "    </tr>\n",
              "  </tbody>\n",
              "</table>\n",
              "</div>"
            ],
            "text/plain": [
              "    wmc  dit  noc    cbo    rfc  ...   cbm        amc  max_cc  avg_cc  bug\n",
              "0  28.0  1.0  0.0   32.0   82.0  ...   0.0  31.642857    23.0  2.6786  1.0\n",
              "1  23.0  2.0  0.0  150.0   67.0  ...   1.0  26.869565     9.0  1.8696  1.0\n",
              "2  25.0  4.0  0.0   18.0   73.0  ...   0.0  25.320000    13.0  1.9200  1.0\n",
              "3  19.0  1.0  0.0    8.0   42.0  ...   0.0  16.052632     5.0  1.5789  1.0\n",
              "4  37.0  6.0  0.0   26.0  120.0  ...  18.0  29.108108     9.0  2.5676  1.0\n",
              "\n",
              "[5 rows x 21 columns]"
            ]
          },
          "metadata": {},
          "execution_count": 52
        }
      ]
    },
    {
      "cell_type": "code",
      "metadata": {
        "colab": {
          "base_uri": "https://localhost:8080/"
        },
        "id": "_dw8bqu_Cadk",
        "outputId": "4e0899e5-d0d9-4894-b5e2-3e1a57fa8bed"
      },
      "source": [
        "D0.shape"
      ],
      "execution_count": null,
      "outputs": [
        {
          "output_type": "execute_result",
          "data": {
            "text/plain": [
              "(312, 21)"
            ]
          },
          "metadata": {},
          "execution_count": 53
        }
      ]
    },
    {
      "cell_type": "code",
      "metadata": {
        "id": "ttXtwTm5Dvx8"
      },
      "source": [
        "D0['bug'] = D0['bug'].fillna(1)"
      ],
      "execution_count": null,
      "outputs": []
    },
    {
      "cell_type": "code",
      "metadata": {
        "colab": {
          "base_uri": "https://localhost:8080/"
        },
        "id": "C0sFwIq9Cc_4",
        "outputId": "e1fea6d4-4917-47fe-925d-f3035b361dfd"
      },
      "source": [
        "Dj.shape\n"
      ],
      "execution_count": null,
      "outputs": [
        {
          "output_type": "execute_result",
          "data": {
            "text/plain": [
              "(312, 21)"
            ]
          },
          "metadata": {},
          "execution_count": 55
        }
      ]
    },
    {
      "cell_type": "code",
      "metadata": {
        "id": "aS18Xt3BChut"
      },
      "source": [
        "frames = [D0,Dj]\n",
        "result = pd.concat(frames)\n"
      ],
      "execution_count": null,
      "outputs": []
    },
    {
      "cell_type": "code",
      "metadata": {
        "colab": {
          "base_uri": "https://localhost:8080/"
        },
        "id": "euZqcHrcClvc",
        "outputId": "3205ebb4-7723-4b13-d217-a17f71c89d9a"
      },
      "source": [
        "result.shape"
      ],
      "execution_count": null,
      "outputs": [
        {
          "output_type": "execute_result",
          "data": {
            "text/plain": [
              "(624, 21)"
            ]
          },
          "metadata": {},
          "execution_count": 57
        }
      ]
    },
    {
      "cell_type": "code",
      "metadata": {
        "colab": {
          "base_uri": "https://localhost:8080/"
        },
        "id": "aprGE3XVDWhU",
        "outputId": "c460b615-438b-41fd-a410-9ec24a615392"
      },
      "source": [
        "result['bug'].value_counts()"
      ],
      "execution_count": null,
      "outputs": [
        {
          "output_type": "execute_result",
          "data": {
            "text/plain": [
              "0.0    312\n",
              "1.0    312\n",
              "Name: bug, dtype: int64"
            ]
          },
          "metadata": {},
          "execution_count": 58
        }
      ]
    },
    {
      "cell_type": "code",
      "metadata": {
        "colab": {
          "base_uri": "https://localhost:8080/"
        },
        "id": "7o9AdqqrEK96",
        "outputId": "0a6fb7a2-c441-407f-e5bb-8affbe0090b2"
      },
      "source": [
        "result.isnull().sum()"
      ],
      "execution_count": null,
      "outputs": [
        {
          "output_type": "execute_result",
          "data": {
            "text/plain": [
              "wmc         0\n",
              "dit         0\n",
              "noc         0\n",
              "cbo         0\n",
              "rfc         0\n",
              "lcom        0\n",
              "ca          0\n",
              "ce          0\n",
              "npm         0\n",
              "lcom3       0\n",
              "loc         0\n",
              "dam         0\n",
              "moa         0\n",
              "mfa         0\n",
              "cam         0\n",
              "ic          0\n",
              "cbm         0\n",
              "amc         0\n",
              "max_cc      0\n",
              "avg_cc    272\n",
              "bug         0\n",
              "dtype: int64"
            ]
          },
          "metadata": {},
          "execution_count": 59
        }
      ]
    },
    {
      "cell_type": "code",
      "metadata": {
        "id": "4PebjKiUEUx7"
      },
      "source": [
        "result['avg_cc'] = result['avg_cc'].fillna(np.mean(result['avg_cc']))"
      ],
      "execution_count": null,
      "outputs": []
    },
    {
      "cell_type": "code",
      "metadata": {
        "id": "mj53xgmkE25M"
      },
      "source": [
        "Xtrain = result.iloc[:,:-1]\n",
        "ytrain = result.iloc[:,-1]"
      ],
      "execution_count": null,
      "outputs": []
    },
    {
      "cell_type": "code",
      "metadata": {
        "colab": {
          "base_uri": "https://localhost:8080/"
        },
        "id": "D7YsYI2-E-8e",
        "outputId": "1d32e381-d915-4b3c-ac68-a8bcb065b4ca"
      },
      "source": [
        "count_classes = pd.value_counts(result['bug'], sort = True)\n",
        "count_classes.plot(kind = 'bar', rot=0)\n",
        "plt.title(\"Software Defect Class After  Distribution\")\n",
        "LABELS = [\"Non-Defective\", \"Defective\"]\n",
        "plt.xticks(range(2), LABELS)\n",
        "plt.xlabel(\"Class\")\n",
        "plt.ylabel(\"Frequency\")"
      ],
      "execution_count": null,
      "outputs": [
        {
          "output_type": "execute_result",
          "data": {
            "text/plain": [
              "Text(0, 0.5, 'Frequency')"
            ]
          },
          "metadata": {},
          "execution_count": 62
        },
        {
          "output_type": "display_data",
          "data": {
            "image/png": "[encoded data removed]",
            "text/plain": [
              "<Figure size 432x288 with 1 Axes>"
            ]
          },
          "metadata": {
            "needs_background": "light"
          }
        }
      ]
    },
    {
      "cell_type": "code",
      "metadata": {
        "colab": {
          "base_uri": "https://localhost:8080/"
        },
        "id": "x6eICcdQFDm0",
        "outputId": "d6b643c4-14f8-4056-9ce1-167748fc9dca"
      },
      "source": [
        "lr = LogisticRegression()\n",
        "lr.fit(Xtrain, ytrain)\n",
        "predicted = lr.predict(Xtrain)\n",
        "print(\"Model Result after CIR\")\n",
        "print(classification_report(ytrain, predicted))\n"
      ],
      "execution_count": null,
      "outputs": [
        {
          "output_type": "stream",
          "name": "stdout",
          "text": [
            "Model Result after CIR\n",
            "              precision    recall  f1-score   support\n",
            "\n",
            "         0.0       0.91      0.97      0.94       312\n",
            "         1.0       0.97      0.90      0.94       312\n",
            "\n",
            "    accuracy                           0.94       624\n",
            "   macro avg       0.94      0.94      0.94       624\n",
            "weighted avg       0.94      0.94      0.94       624\n",
            "\n"
          ]
        },
        {
          "output_type": "stream",
          "name": "stderr",
          "text": [
            "/usr/local/lib/python3.7/dist-packages/sklearn/linear_model/_logistic.py:818: ConvergenceWarning: lbfgs failed to converge (status=1):\n",
            "STOP: TOTAL NO. of ITERATIONS REACHED LIMIT.\n",
            "\n",
            "Increase the number of iterations (max_iter) or scale the data as shown in:\n",
            "    https://scikit-learn.org/stable/modules/preprocessing.html\n",
            "Please also refer to the documentation for alternative solver options:\n",
            "    https://scikit-learn.org/stable/modules/linear_model.html#logistic-regression\n",
            "  extra_warning_msg=_LOGISTIC_SOLVER_CONVERGENCE_MSG,\n"
          ]
        }
      ]
    },
    {
      "cell_type": "code",
      "metadata": {
        "colab": {
          "base_uri": "https://localhost:8080/"
        },
        "id": "eK4zJRi_FGO-",
        "outputId": "f28fb37e-2c10-40d3-f9fe-6b21521305bf"
      },
      "source": [
        "print(\"Training Accuracy:\",accuracy_score(ytrain,predicted))\n",
        "print(\"Training Precision:\",precision_score(ytrain,predicted))\n",
        "print(\"Training Recall:\",recall_score(ytrain,predicted))\n"
      ],
      "execution_count": null,
      "outputs": [
        {
          "output_type": "stream",
          "name": "stdout",
          "text": [
            "Training Accuracy: 0.9391025641025641\n",
            "Training Precision: 0.9724137931034482\n",
            "Training Recall: 0.9038461538461539\n"
          ]
        }
      ]
    },
    {
      "cell_type": "markdown",
      "metadata": {
        "id": "qeEWwubgnlWF"
      },
      "source": [
        "## SVM"
      ]
    },
    {
      "cell_type": "code",
      "metadata": {
        "colab": {
          "base_uri": "https://localhost:8080/"
        },
        "id": "kg5zUxfZnn8E",
        "outputId": "2da45162-06bb-45fd-fdcb-cd7e9e7886d2"
      },
      "source": [
        "from sklearn import svm\n",
        "clf = svm.SVC(kernel='rbf',gamma='auto',C=1.0)\n",
        "clf.fit(Xtrain,ytrain)\n",
        "y_train_pred = clf.predict(Xtrain)\n",
        "print(\"Training Accuracy:\",accuracy_score(ytrain,y_train_pred))\n",
        "print(\"Training Precision:\",precision_score(ytrain,y_train_pred))\n",
        "print(\"Training Recall:\",recall_score(ytrain,y_train_pred))\n"
      ],
      "execution_count": null,
      "outputs": [
        {
          "output_type": "stream",
          "name": "stdout",
          "text": [
            "Training Accuracy: 0.9967948717948718\n",
            "Training Precision: 1.0\n",
            "Training Recall: 0.9935897435897436\n"
          ]
        }
      ]
    },
    {
      "cell_type": "markdown",
      "metadata": {
        "id": "mMxR20ODnwWk"
      },
      "source": [
        "## Random Forest"
      ]
    },
    {
      "cell_type": "code",
      "metadata": {
        "colab": {
          "base_uri": "https://localhost:8080/"
        },
        "id": "geC1go4ynzhM",
        "outputId": "12600bdc-aa37-41d6-c246-c9637309e77a"
      },
      "source": [
        "from sklearn.ensemble import RandomForestClassifier\n",
        "clf = RandomForestClassifier(n_estimators = 1000) \n",
        "clf.fit(Xtrain, ytrain)\n",
        "y_pred = clf.predict(Xtrain)\n",
        "print(\"Training Accuracy:\",accuracy_score(ytrain,y_pred))\n",
        "print(\"Training Precision:\",precision_score(ytrain,y_pred))\n",
        "print(\"Training Recall:\",recall_score(ytrain,y_pred))\n"
      ],
      "execution_count": null,
      "outputs": [
        {
          "output_type": "stream",
          "name": "stdout",
          "text": [
            "Training Accuracy: 1.0\n",
            "Training Precision: 1.0\n",
            "Training Recall: 1.0\n"
          ]
        }
      ]
    },
    {
      "cell_type": "code",
      "metadata": {
        "id": "pT1NLhUpfzdw"
      },
      "source": [
        ""
      ],
      "execution_count": null,
      "outputs": []
    },
    {
      "cell_type": "code",
      "metadata": {
        "colab": {
          "base_uri": "https://localhost:8080/"
        },
        "id": "Q6TtXmgeGzyo",
        "outputId": "2a1fc25f-687d-43df-8ba6-c33578e2aa3a"
      },
      "source": [
        "conf_matrix = confusion_matrix(y_true=ytrain, y_pred=predicted)\n",
        "fig, ax = plt.subplots(figsize=(7.5, 7.5))\n",
        "ax.matshow(conf_matrix, cmap=plt.cm.Blues, alpha=0.3)\n",
        "for i in range(conf_matrix.shape[0]):\n",
        "    for j in range(conf_matrix.shape[1]):\n",
        "        ax.text(x=j, y=i,s=conf_matrix[i, j], va='center', ha='center', size='xx-large')\n",
        " \n",
        "plt.xlabel('Predictions', fontsize=18)\n",
        "plt.ylabel('Actuals', fontsize=18)\n",
        "plt.title('Confusion Matrix After CIR', fontsize=18)\n",
        "plt.show()"
      ],
      "execution_count": null,
      "outputs": [
        {
          "output_type": "display_data",
          "data": {
            "image/png": "[encoded data removed]",
            "text/plain": [
              "<Figure size 540x540 with 1 Axes>"
            ]
          },
          "metadata": {
            "needs_background": "light"
          }
        }
      ]
    }
  ]
}